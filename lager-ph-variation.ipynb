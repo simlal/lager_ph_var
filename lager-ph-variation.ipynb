{
 "cells": [
  {
   "cell_type": "code",
   "execution_count": 1,
   "id": "867b9caa",
   "metadata": {
    "_cell_guid": "b1076dfc-b9ad-4769-8c92-a6c4dae69d19",
    "_uuid": "8f2839f25d086af736a60e9eeb907d3b93b6e0e5",
    "execution": {
     "iopub.execute_input": "2022-09-22T18:43:52.313310Z",
     "iopub.status.busy": "2022-09-22T18:43:52.312403Z",
     "iopub.status.idle": "2022-09-22T18:43:53.619221Z",
     "shell.execute_reply": "2022-09-22T18:43:53.617954Z"
    },
    "papermill": {
     "duration": 1.33065,
     "end_time": "2022-09-22T18:43:53.623518",
     "exception": false,
     "start_time": "2022-09-22T18:43:52.292868",
     "status": "completed"
    },
    "tags": []
   },
   "outputs": [
    {
     "name": "stdout",
     "output_type": "stream",
     "text": [
      "/kaggle/input/lager-coboh-20212022-jcdep/Lager_CO-Boh_enjeu-pH_sep2022.csv\n"
     ]
    }
   ],
   "source": [
    "#Import relevant libraries\n",
    "import pandas as pd\n",
    "import seaborn as sns\n",
    "import matplotlib.pyplot as plt\n",
    "import itertools\n",
    "from scipy.stats import shapiro \n",
    "from scipy.stats import wilcoxon\n",
    "from scipy.stats import mannwhitneyu\n",
    "\n",
    "# Input data files are available in the read-only \"../input/\" directory\n",
    "import os\n",
    "for dirname, _, filenames in os.walk('/kaggle/input'):\n",
    "    for filename in filenames:\n",
    "        print(os.path.join(dirname, filename))"
   ]
  },
  {
   "cell_type": "markdown",
   "id": "cfda26e7",
   "metadata": {
    "papermill": {
     "duration": 0.008929,
     "end_time": "2022-09-22T18:43:53.642379",
     "exception": false,
     "start_time": "2022-09-22T18:43:53.633450",
     "status": "completed"
    },
    "tags": []
   },
   "source": [
    "# Exploration of pH variations in lagers brewed with two strains from Labo Solution yeasts\n",
    "---\n",
    "## Dataset :\n",
    "Beers brewed from 2 different locations, with 2 different types of lager yeast strains. Data consists of post-boil pH (pre-yeast), post-pitch pH (post-yeast addition) and final pH witouth any dry-hopping :\n",
    "<div class=\"alert alert-block alert-info\">\n",
    "<b>Fact: </b> We use pre dry-hopping (DH) pH because cold addition of hops is known to increase the pH of the beer. It will be then irrelevant to compare beers that have a different cold-hopping regime : \n",
    "<ul> \n",
    "    <li><a href=\"http://www2.uwstout.edu/content/lib/thesis/2014/2014schmickm.pdf\">Dry Hopping and its Effect on Beer pH (Shmick 2014)</a></li>\n",
    "    <li><a href=\"https://www.hopsteiner.com/wp-content/uploads/2016/06/2016-05_TS_PH.pdf\">Hopsteiner Technical Newsletter</a></li>\n",
    "    <li><a href=\"http://scottjanish.com/a-look-at-ph-in-hoppy-beers/\">A look at pH in hoppy beers (Janish 2020 blog post)</a></li>\n",
    "</ul>\n",
    "</div>\n",
    "\n",
    "## Data collection :\n",
    "pH readings taken at 15-25 C with ThermoFisher Orion A111 or Hanna Edge pH meter. Gravity readings with either traditional hydrometer or EasyDens (Anton Paar)\n",
    "\n",
    "## Data types : \n",
    "Categorical, numerical and transformed/computed.\n",
    "\n",
    "---"
   ]
  },
  {
   "cell_type": "code",
   "execution_count": 2,
   "id": "c7d73b1a",
   "metadata": {
    "execution": {
     "iopub.execute_input": "2022-09-22T18:43:53.662618Z",
     "iopub.status.busy": "2022-09-22T18:43:53.662156Z",
     "iopub.status.idle": "2022-09-22T18:43:53.698998Z",
     "shell.execute_reply": "2022-09-22T18:43:53.697398Z"
    },
    "papermill": {
     "duration": 0.05155,
     "end_time": "2022-09-22T18:43:53.702978",
     "exception": false,
     "start_time": "2022-09-22T18:43:53.651428",
     "status": "completed"
    },
    "tags": []
   },
   "outputs": [
    {
     "name": "stderr",
     "output_type": "stream",
     "text": [
      "/opt/conda/lib/python3.7/site-packages/ipykernel_launcher.py:5: FutureWarning: Dropping of nuisance columns in DataFrame reductions (with 'numeric_only=None') is deprecated; in a future version this will raise TypeError.  Select only valid columns before calling the reduction.\n",
      "  \"\"\"\n"
     ]
    },
    {
     "data": {
      "text/plain": [
       "FV                           5.000\n",
       "# brassin                  717.000\n",
       "Gen                          1.000\n",
       "Post-Boil pH                 5.330\n",
       "Post-pitch pH (FV)           5.045\n",
       "Final (pre-DH)               4.360\n",
       "diff pitch pH               -0.170\n",
       "diff Total pH               -1.005\n",
       "Specialty Torref. malts      0.000\n",
       "OG (P)                      11.900\n",
       "dtype: float64"
      ]
     },
     "execution_count": 2,
     "metadata": {},
     "output_type": "execute_result"
    }
   ],
   "source": [
    "# Import data and set proper header for dataframe\n",
    "df = pd.read_csv(\"../input/lager-coboh-20212022-jcdep/Lager_CO-Boh_enjeu-pH_sep2022.csv\",header=4)\n",
    "\n",
    "# Lookup median for diff pitch and diff total to help later set categorical var\n",
    "df.median(axis=0)"
   ]
  },
  {
   "cell_type": "markdown",
   "id": "48ad3314",
   "metadata": {
    "papermill": {
     "duration": 0.008788,
     "end_time": "2022-09-22T18:43:53.721342",
     "exception": false,
     "start_time": "2022-09-22T18:43:53.712554",
     "status": "completed"
    },
    "tags": []
   },
   "source": [
    "## Transform diff-pitch (Post-boil pH - post-pitch pH) into categorical data\n",
    "**Labels :**\n",
    "- |diff pitch pH| >= 0.2 = big_shift_pitch\n",
    "- |diff pitch pH| < 0.2 = small_shift_pitch"
   ]
  },
  {
   "cell_type": "code",
   "execution_count": 3,
   "id": "498525ed",
   "metadata": {
    "execution": {
     "iopub.execute_input": "2022-09-22T18:43:53.742426Z",
     "iopub.status.busy": "2022-09-22T18:43:53.741931Z",
     "iopub.status.idle": "2022-09-22T18:43:53.756841Z",
     "shell.execute_reply": "2022-09-22T18:43:53.755500Z"
    },
    "papermill": {
     "duration": 0.028858,
     "end_time": "2022-09-22T18:43:53.759432",
     "exception": false,
     "start_time": "2022-09-22T18:43:53.730574",
     "status": "completed"
    },
    "tags": []
   },
   "outputs": [],
   "source": [
    "def label_diff_pitch(row):\n",
    "    if row['diff pitch pH'] <= -0.2 :\n",
    "        return 'big_shift_pitch'\n",
    "    elif row['diff pitch pH'] > -0.2 :\n",
    "        return 'small_shift_pitch'\n",
    "    else :\n",
    "        return 'NA'\n",
    "# Check for proper function behavior\n",
    "lab_diffpitch = df.apply(lambda row: label_diff_pitch(row), axis=1)\n",
    "#lab_diffpitch.head()\n",
    "# Apply to df and create column\n",
    "df.insert(12, \"label_diff_pitch\", lab_diffpitch)\n"
   ]
  },
  {
   "cell_type": "markdown",
   "id": "62dbf77d",
   "metadata": {
    "papermill": {
     "duration": 0.008944,
     "end_time": "2022-09-22T18:43:53.780679",
     "exception": false,
     "start_time": "2022-09-22T18:43:53.771735",
     "status": "completed"
    },
    "tags": []
   },
   "source": [
    "## Transform diff total pH (Post-boil pH - final pH) into categorical data\n",
    "**Labels :**\n",
    "- |diff tot pH| >= 1 = big_shift_tot\n",
    "- |diff tot pH| < 1 = small_shift_tot"
   ]
  },
  {
   "cell_type": "code",
   "execution_count": 4,
   "id": "3520b53a",
   "metadata": {
    "execution": {
     "iopub.execute_input": "2022-09-22T18:43:53.801887Z",
     "iopub.status.busy": "2022-09-22T18:43:53.801424Z",
     "iopub.status.idle": "2022-09-22T18:43:53.812517Z",
     "shell.execute_reply": "2022-09-22T18:43:53.811372Z"
    },
    "papermill": {
     "duration": 0.025292,
     "end_time": "2022-09-22T18:43:53.815403",
     "exception": false,
     "start_time": "2022-09-22T18:43:53.790111",
     "status": "completed"
    },
    "tags": []
   },
   "outputs": [],
   "source": [
    "def label_diff_tot(row):\n",
    "    if row['diff Total pH'] <= -1 :\n",
    "        return 'big_shift_tot'\n",
    "    elif row['diff Total pH'] > -1 :\n",
    "        return 'small_shift_tot'\n",
    "    else :\n",
    "        return 'NA'\n",
    "# Check for proper function behavior\n",
    "lab_difftot = df.apply(lambda row: label_diff_tot(row), axis=1)\n",
    "#lab_difftot.head()\n",
    "\n",
    "# Apply to df and create column\n",
    "df.insert(14, \"label_diff_tot\", lab_difftot)"
   ]
  },
  {
   "cell_type": "markdown",
   "id": "6bef67b0",
   "metadata": {
    "papermill": {
     "duration": 0.008908,
     "end_time": "2022-09-22T18:43:53.833918",
     "exception": false,
     "start_time": "2022-09-22T18:43:53.825010",
     "status": "completed"
    },
    "tags": []
   },
   "source": [
    "## Group Generations in 2 relevant categories :\n",
    "**Labels :**\n",
    "- Gen = 0 -> G0\n",
    "- Gen = range(1,5) > G1-to-G4"
   ]
  },
  {
   "cell_type": "code",
   "execution_count": 5,
   "id": "4d0666ef",
   "metadata": {
    "execution": {
     "iopub.execute_input": "2022-09-22T18:43:53.855988Z",
     "iopub.status.busy": "2022-09-22T18:43:53.855537Z",
     "iopub.status.idle": "2022-09-22T18:43:53.925977Z",
     "shell.execute_reply": "2022-09-22T18:43:53.924089Z"
    },
    "papermill": {
     "duration": 0.087947,
     "end_time": "2022-09-22T18:43:53.931619",
     "exception": false,
     "start_time": "2022-09-22T18:43:53.843672",
     "status": "completed"
    },
    "tags": []
   },
   "outputs": [
    {
     "data": {
      "text/html": [
       "<div>\n",
       "<style scoped>\n",
       "    .dataframe tbody tr th:only-of-type {\n",
       "        vertical-align: middle;\n",
       "    }\n",
       "\n",
       "    .dataframe tbody tr th {\n",
       "        vertical-align: top;\n",
       "    }\n",
       "\n",
       "    .dataframe thead th {\n",
       "        text-align: right;\n",
       "    }\n",
       "</style>\n",
       "<table border=\"1\" class=\"dataframe\">\n",
       "  <thead>\n",
       "    <tr style=\"text-align: right;\">\n",
       "      <th></th>\n",
       "      <th>Lieu</th>\n",
       "      <th>Date brassin</th>\n",
       "      <th>FV</th>\n",
       "      <th>Bière</th>\n",
       "      <th># brassin</th>\n",
       "      <th>Levure</th>\n",
       "      <th>Gen</th>\n",
       "      <th>label_gen</th>\n",
       "      <th>Tag</th>\n",
       "      <th>Post-Boil pH</th>\n",
       "      <th>Post-pitch pH (FV)</th>\n",
       "      <th>Final (pre-DH)</th>\n",
       "      <th>diff pitch pH</th>\n",
       "      <th>label_diff_pitch</th>\n",
       "      <th>diff Total pH</th>\n",
       "      <th>label_diff_tot</th>\n",
       "      <th># lot levure</th>\n",
       "      <th>Specialty Torref. malts</th>\n",
       "      <th>OG (P)</th>\n",
       "    </tr>\n",
       "  </thead>\n",
       "  <tbody>\n",
       "    <tr>\n",
       "      <th>0</th>\n",
       "      <td>Dépôt</td>\n",
       "      <td>2022-09-14</td>\n",
       "      <td>8</td>\n",
       "      <td>TMB</td>\n",
       "      <td>1750</td>\n",
       "      <td>Boh</td>\n",
       "      <td>0</td>\n",
       "      <td>G0</td>\n",
       "      <td>Dépôt-TMB-1750-Boh-0</td>\n",
       "      <td>5.26</td>\n",
       "      <td>5.12</td>\n",
       "      <td>4.23</td>\n",
       "      <td>-0.14</td>\n",
       "      <td>small_shift_pitch</td>\n",
       "      <td>-1.03</td>\n",
       "      <td>big_shift_tot</td>\n",
       "      <td>NaN</td>\n",
       "      <td>False</td>\n",
       "      <td>11.9</td>\n",
       "    </tr>\n",
       "    <tr>\n",
       "      <th>1</th>\n",
       "      <td>Dépôt</td>\n",
       "      <td>2022-08-24</td>\n",
       "      <td>9</td>\n",
       "      <td>Gil</td>\n",
       "      <td>1740</td>\n",
       "      <td>Boh</td>\n",
       "      <td>0</td>\n",
       "      <td>G0</td>\n",
       "      <td>Dépôt-Gil-1740-Boh-0</td>\n",
       "      <td>5.09</td>\n",
       "      <td>4.99</td>\n",
       "      <td>4.41</td>\n",
       "      <td>-0.10</td>\n",
       "      <td>small_shift_pitch</td>\n",
       "      <td>-0.68</td>\n",
       "      <td>small_shift_tot</td>\n",
       "      <td>22529</td>\n",
       "      <td>True</td>\n",
       "      <td>17.4</td>\n",
       "    </tr>\n",
       "    <tr>\n",
       "      <th>2</th>\n",
       "      <td>Dépôt</td>\n",
       "      <td>2022-08-24</td>\n",
       "      <td>8</td>\n",
       "      <td>VA</td>\n",
       "      <td>1739</td>\n",
       "      <td>Boh</td>\n",
       "      <td>0</td>\n",
       "      <td>G0</td>\n",
       "      <td>Dépôt-VA-1739-Boh-0</td>\n",
       "      <td>5.42</td>\n",
       "      <td>5.25</td>\n",
       "      <td>4.36</td>\n",
       "      <td>-0.17</td>\n",
       "      <td>small_shift_pitch</td>\n",
       "      <td>-1.06</td>\n",
       "      <td>big_shift_tot</td>\n",
       "      <td>22529</td>\n",
       "      <td>True</td>\n",
       "      <td>11.2</td>\n",
       "    </tr>\n",
       "    <tr>\n",
       "      <th>3</th>\n",
       "      <td>Dépôt</td>\n",
       "      <td>2022-07-27</td>\n",
       "      <td>8</td>\n",
       "      <td>TMB</td>\n",
       "      <td>1721</td>\n",
       "      <td>Boh</td>\n",
       "      <td>0</td>\n",
       "      <td>G0</td>\n",
       "      <td>Dépôt-TMB-1721-Boh-0</td>\n",
       "      <td>5.48</td>\n",
       "      <td>5.41</td>\n",
       "      <td>4.64</td>\n",
       "      <td>-0.07</td>\n",
       "      <td>small_shift_pitch</td>\n",
       "      <td>-0.84</td>\n",
       "      <td>small_shift_tot</td>\n",
       "      <td>22219</td>\n",
       "      <td>False</td>\n",
       "      <td>11.9</td>\n",
       "    </tr>\n",
       "    <tr>\n",
       "      <th>4</th>\n",
       "      <td>Dépôt</td>\n",
       "      <td>2022-06-09</td>\n",
       "      <td>9</td>\n",
       "      <td>She</td>\n",
       "      <td>1694</td>\n",
       "      <td>Boh</td>\n",
       "      <td>0</td>\n",
       "      <td>G0</td>\n",
       "      <td>Dépôt-She-1694-Boh-0</td>\n",
       "      <td>5.33</td>\n",
       "      <td>5.17</td>\n",
       "      <td>3.97</td>\n",
       "      <td>-0.16</td>\n",
       "      <td>small_shift_pitch</td>\n",
       "      <td>-1.36</td>\n",
       "      <td>big_shift_tot</td>\n",
       "      <td>22219</td>\n",
       "      <td>False</td>\n",
       "      <td>11.9</td>\n",
       "    </tr>\n",
       "    <tr>\n",
       "      <th>5</th>\n",
       "      <td>Dépôt</td>\n",
       "      <td>2022-07-29</td>\n",
       "      <td>9</td>\n",
       "      <td>Lei</td>\n",
       "      <td>1723</td>\n",
       "      <td>Boh</td>\n",
       "      <td>2</td>\n",
       "      <td>G1-to-G4</td>\n",
       "      <td>Dépôt-Lei-1723-Boh-2</td>\n",
       "      <td>5.32</td>\n",
       "      <td>5.22</td>\n",
       "      <td>4.52</td>\n",
       "      <td>-0.10</td>\n",
       "      <td>small_shift_pitch</td>\n",
       "      <td>-0.80</td>\n",
       "      <td>small_shift_tot</td>\n",
       "      <td>sib1703</td>\n",
       "      <td>False</td>\n",
       "      <td>8.6</td>\n",
       "    </tr>\n",
       "    <tr>\n",
       "      <th>6</th>\n",
       "      <td>Dépôt</td>\n",
       "      <td>2022-06-30</td>\n",
       "      <td>9</td>\n",
       "      <td>TMB</td>\n",
       "      <td>1707</td>\n",
       "      <td>Boh</td>\n",
       "      <td>1</td>\n",
       "      <td>G1-to-G4</td>\n",
       "      <td>Dépôt-TMB-1707-Boh-1</td>\n",
       "      <td>5.35</td>\n",
       "      <td>5.25</td>\n",
       "      <td>4.63</td>\n",
       "      <td>-0.10</td>\n",
       "      <td>small_shift_pitch</td>\n",
       "      <td>-0.72</td>\n",
       "      <td>small_shift_tot</td>\n",
       "      <td>sib1674</td>\n",
       "      <td>False</td>\n",
       "      <td>10.7</td>\n",
       "    </tr>\n",
       "    <tr>\n",
       "      <th>7</th>\n",
       "      <td>Dépôt</td>\n",
       "      <td>2022-06-28</td>\n",
       "      <td>8</td>\n",
       "      <td>Vie</td>\n",
       "      <td>1703</td>\n",
       "      <td>Boh</td>\n",
       "      <td>1</td>\n",
       "      <td>G1-to-G4</td>\n",
       "      <td>Dépôt-Vie-1703-Boh-1</td>\n",
       "      <td>4.86</td>\n",
       "      <td>NaN</td>\n",
       "      <td>4.57</td>\n",
       "      <td>NaN</td>\n",
       "      <td>NA</td>\n",
       "      <td>-0.29</td>\n",
       "      <td>small_shift_tot</td>\n",
       "      <td>sib1694</td>\n",
       "      <td>True</td>\n",
       "      <td>10.6</td>\n",
       "    </tr>\n",
       "    <tr>\n",
       "      <th>8</th>\n",
       "      <td>Dépôt</td>\n",
       "      <td>2022-05-17</td>\n",
       "      <td>9</td>\n",
       "      <td>TMB</td>\n",
       "      <td>1675</td>\n",
       "      <td>Boh</td>\n",
       "      <td>1</td>\n",
       "      <td>G1-to-G4</td>\n",
       "      <td>Dépôt-TMB-1675-Boh-1</td>\n",
       "      <td>5.31</td>\n",
       "      <td>5.29</td>\n",
       "      <td>4.74</td>\n",
       "      <td>-0.02</td>\n",
       "      <td>small_shift_pitch</td>\n",
       "      <td>-0.57</td>\n",
       "      <td>small_shift_tot</td>\n",
       "      <td>sib1653</td>\n",
       "      <td>False</td>\n",
       "      <td>11.3</td>\n",
       "    </tr>\n",
       "    <tr>\n",
       "      <th>9</th>\n",
       "      <td>Dépôt</td>\n",
       "      <td>2022-04-06</td>\n",
       "      <td>9</td>\n",
       "      <td>TMB</td>\n",
       "      <td>1653</td>\n",
       "      <td>Boh</td>\n",
       "      <td>0</td>\n",
       "      <td>G0</td>\n",
       "      <td>Dépôt-TMB-1653-Boh-0</td>\n",
       "      <td>5.37</td>\n",
       "      <td>5.33</td>\n",
       "      <td>4.45</td>\n",
       "      <td>-0.04</td>\n",
       "      <td>small_shift_pitch</td>\n",
       "      <td>-0.92</td>\n",
       "      <td>small_shift_tot</td>\n",
       "      <td>22046</td>\n",
       "      <td>False</td>\n",
       "      <td>12.4</td>\n",
       "    </tr>\n",
       "    <tr>\n",
       "      <th>10</th>\n",
       "      <td>Dépôt</td>\n",
       "      <td>2022-03-08</td>\n",
       "      <td>8</td>\n",
       "      <td>HP</td>\n",
       "      <td>1636</td>\n",
       "      <td>Boh</td>\n",
       "      <td>2</td>\n",
       "      <td>G1-to-G4</td>\n",
       "      <td>Dépôt-HP-1636-Boh-2</td>\n",
       "      <td>NaN</td>\n",
       "      <td>5.20</td>\n",
       "      <td>5.43</td>\n",
       "      <td>NaN</td>\n",
       "      <td>NA</td>\n",
       "      <td>NaN</td>\n",
       "      <td>NA</td>\n",
       "      <td>sib1620</td>\n",
       "      <td>False</td>\n",
       "      <td>12.3</td>\n",
       "    </tr>\n",
       "    <tr>\n",
       "      <th>11</th>\n",
       "      <td>Dépôt</td>\n",
       "      <td>2022-02-25</td>\n",
       "      <td>3</td>\n",
       "      <td>LDR</td>\n",
       "      <td>1631</td>\n",
       "      <td>Boh</td>\n",
       "      <td>2</td>\n",
       "      <td>G1-to-G4</td>\n",
       "      <td>Dépôt-LDR-1631-Boh-2</td>\n",
       "      <td>5.43</td>\n",
       "      <td>5.34</td>\n",
       "      <td>4.42</td>\n",
       "      <td>-0.09</td>\n",
       "      <td>small_shift_pitch</td>\n",
       "      <td>-1.01</td>\n",
       "      <td>big_shift_tot</td>\n",
       "      <td>sib1609</td>\n",
       "      <td>False</td>\n",
       "      <td>10.4</td>\n",
       "    </tr>\n",
       "    <tr>\n",
       "      <th>12</th>\n",
       "      <td>Dépôt</td>\n",
       "      <td>2022-02-15</td>\n",
       "      <td>6</td>\n",
       "      <td>She</td>\n",
       "      <td>1624</td>\n",
       "      <td>LCO</td>\n",
       "      <td>1</td>\n",
       "      <td>G1-to-G4</td>\n",
       "      <td>Dépôt-She-1624-LCO-1</td>\n",
       "      <td>5.45</td>\n",
       "      <td>5.28</td>\n",
       "      <td>4.36</td>\n",
       "      <td>-0.17</td>\n",
       "      <td>small_shift_pitch</td>\n",
       "      <td>-1.09</td>\n",
       "      <td>big_shift_tot</td>\n",
       "      <td>sib1606</td>\n",
       "      <td>False</td>\n",
       "      <td>12.0</td>\n",
       "    </tr>\n",
       "    <tr>\n",
       "      <th>13</th>\n",
       "      <td>Dépôt</td>\n",
       "      <td>2022-02-08</td>\n",
       "      <td>9</td>\n",
       "      <td>HP</td>\n",
       "      <td>1620</td>\n",
       "      <td>Boh</td>\n",
       "      <td>1</td>\n",
       "      <td>G1-to-G4</td>\n",
       "      <td>Dépôt-HP-1620-Boh-1</td>\n",
       "      <td>5.27</td>\n",
       "      <td>5.21</td>\n",
       "      <td>4.40</td>\n",
       "      <td>-0.06</td>\n",
       "      <td>small_shift_pitch</td>\n",
       "      <td>-0.87</td>\n",
       "      <td>small_shift_tot</td>\n",
       "      <td>sib1601</td>\n",
       "      <td>False</td>\n",
       "      <td>12.1</td>\n",
       "    </tr>\n",
       "    <tr>\n",
       "      <th>14</th>\n",
       "      <td>Dépôt</td>\n",
       "      <td>2022-02-25</td>\n",
       "      <td>2</td>\n",
       "      <td>AF</td>\n",
       "      <td>1630</td>\n",
       "      <td>LCO</td>\n",
       "      <td>2</td>\n",
       "      <td>G1-to-G4</td>\n",
       "      <td>Dépôt-AF-1630-LCO-2</td>\n",
       "      <td>5.16</td>\n",
       "      <td>4.89</td>\n",
       "      <td>4.21</td>\n",
       "      <td>-0.27</td>\n",
       "      <td>big_shift_pitch</td>\n",
       "      <td>-0.95</td>\n",
       "      <td>small_shift_tot</td>\n",
       "      <td>sib1616</td>\n",
       "      <td>False</td>\n",
       "      <td>11.4</td>\n",
       "    </tr>\n",
       "    <tr>\n",
       "      <th>15</th>\n",
       "      <td>Dépôt</td>\n",
       "      <td>2021-12-23</td>\n",
       "      <td>6</td>\n",
       "      <td>Gil</td>\n",
       "      <td>1596</td>\n",
       "      <td>LCO</td>\n",
       "      <td>4</td>\n",
       "      <td>G1-to-G4</td>\n",
       "      <td>Dépôt-Gil-1596-LCO-4</td>\n",
       "      <td>4.98</td>\n",
       "      <td>5.07</td>\n",
       "      <td>4.61</td>\n",
       "      <td>0.09</td>\n",
       "      <td>small_shift_pitch</td>\n",
       "      <td>-0.37</td>\n",
       "      <td>small_shift_tot</td>\n",
       "      <td>NaN</td>\n",
       "      <td>True</td>\n",
       "      <td>15.8</td>\n",
       "    </tr>\n",
       "    <tr>\n",
       "      <th>16</th>\n",
       "      <td>JC</td>\n",
       "      <td>2021-08-26</td>\n",
       "      <td>5</td>\n",
       "      <td>She</td>\n",
       "      <td>646</td>\n",
       "      <td>LCO</td>\n",
       "      <td>0</td>\n",
       "      <td>G0</td>\n",
       "      <td>JC-646-LCO-0</td>\n",
       "      <td>5.41</td>\n",
       "      <td>4.90</td>\n",
       "      <td>4.12</td>\n",
       "      <td>-0.51</td>\n",
       "      <td>big_shift_pitch</td>\n",
       "      <td>-1.29</td>\n",
       "      <td>big_shift_tot</td>\n",
       "      <td>NaN</td>\n",
       "      <td>False</td>\n",
       "      <td>NaN</td>\n",
       "    </tr>\n",
       "    <tr>\n",
       "      <th>17</th>\n",
       "      <td>JC</td>\n",
       "      <td>2021-09-15</td>\n",
       "      <td>2</td>\n",
       "      <td>She</td>\n",
       "      <td>649</td>\n",
       "      <td>LCO</td>\n",
       "      <td>3</td>\n",
       "      <td>G1-to-G4</td>\n",
       "      <td>JC-649-LCO-3</td>\n",
       "      <td>5.41</td>\n",
       "      <td>5.02</td>\n",
       "      <td>4.63</td>\n",
       "      <td>-0.39</td>\n",
       "      <td>big_shift_pitch</td>\n",
       "      <td>-0.78</td>\n",
       "      <td>small_shift_tot</td>\n",
       "      <td>NaN</td>\n",
       "      <td>False</td>\n",
       "      <td>NaN</td>\n",
       "    </tr>\n",
       "    <tr>\n",
       "      <th>18</th>\n",
       "      <td>JC</td>\n",
       "      <td>2021-09-29</td>\n",
       "      <td>5</td>\n",
       "      <td>She</td>\n",
       "      <td>652</td>\n",
       "      <td>LCO</td>\n",
       "      <td>1</td>\n",
       "      <td>G1-to-G4</td>\n",
       "      <td>JC-652-LCO-1</td>\n",
       "      <td>5.44</td>\n",
       "      <td>4.89</td>\n",
       "      <td>4.44</td>\n",
       "      <td>-0.55</td>\n",
       "      <td>big_shift_pitch</td>\n",
       "      <td>-1.00</td>\n",
       "      <td>big_shift_tot</td>\n",
       "      <td>NaN</td>\n",
       "      <td>False</td>\n",
       "      <td>NaN</td>\n",
       "    </tr>\n",
       "    <tr>\n",
       "      <th>19</th>\n",
       "      <td>JC</td>\n",
       "      <td>2021-10-12</td>\n",
       "      <td>2</td>\n",
       "      <td>She</td>\n",
       "      <td>654</td>\n",
       "      <td>LCO</td>\n",
       "      <td>4</td>\n",
       "      <td>G1-to-G4</td>\n",
       "      <td>JC-654-LCO-4</td>\n",
       "      <td>5.35</td>\n",
       "      <td>5.31</td>\n",
       "      <td>4.72</td>\n",
       "      <td>-0.04</td>\n",
       "      <td>small_shift_pitch</td>\n",
       "      <td>-0.63</td>\n",
       "      <td>small_shift_tot</td>\n",
       "      <td>NaN</td>\n",
       "      <td>False</td>\n",
       "      <td>NaN</td>\n",
       "    </tr>\n",
       "    <tr>\n",
       "      <th>20</th>\n",
       "      <td>JC</td>\n",
       "      <td>2022-01-05</td>\n",
       "      <td>5</td>\n",
       "      <td>She</td>\n",
       "      <td>669</td>\n",
       "      <td>LCO</td>\n",
       "      <td>2</td>\n",
       "      <td>G1-to-G4</td>\n",
       "      <td>JC-669-LCO-2</td>\n",
       "      <td>5.30</td>\n",
       "      <td>4.85</td>\n",
       "      <td>4.17</td>\n",
       "      <td>-0.45</td>\n",
       "      <td>big_shift_pitch</td>\n",
       "      <td>-1.13</td>\n",
       "      <td>big_shift_tot</td>\n",
       "      <td>NaN</td>\n",
       "      <td>False</td>\n",
       "      <td>NaN</td>\n",
       "    </tr>\n",
       "    <tr>\n",
       "      <th>21</th>\n",
       "      <td>JC</td>\n",
       "      <td>2022-01-26</td>\n",
       "      <td>4</td>\n",
       "      <td>She</td>\n",
       "      <td>674</td>\n",
       "      <td>LCO</td>\n",
       "      <td>3</td>\n",
       "      <td>G1-to-G4</td>\n",
       "      <td>JC-674-LCO-3</td>\n",
       "      <td>5.31</td>\n",
       "      <td>4.80</td>\n",
       "      <td>4.19</td>\n",
       "      <td>-0.51</td>\n",
       "      <td>big_shift_pitch</td>\n",
       "      <td>-1.12</td>\n",
       "      <td>big_shift_tot</td>\n",
       "      <td>NaN</td>\n",
       "      <td>False</td>\n",
       "      <td>NaN</td>\n",
       "    </tr>\n",
       "    <tr>\n",
       "      <th>22</th>\n",
       "      <td>JC</td>\n",
       "      <td>2022-02-17</td>\n",
       "      <td>3</td>\n",
       "      <td>She</td>\n",
       "      <td>678</td>\n",
       "      <td>LCO</td>\n",
       "      <td>4</td>\n",
       "      <td>G1-to-G4</td>\n",
       "      <td>JC-678-LCO-4</td>\n",
       "      <td>5.37</td>\n",
       "      <td>4.92</td>\n",
       "      <td>4.38</td>\n",
       "      <td>-0.45</td>\n",
       "      <td>big_shift_pitch</td>\n",
       "      <td>-0.99</td>\n",
       "      <td>small_shift_tot</td>\n",
       "      <td>NaN</td>\n",
       "      <td>False</td>\n",
       "      <td>NaN</td>\n",
       "    </tr>\n",
       "    <tr>\n",
       "      <th>23</th>\n",
       "      <td>JC</td>\n",
       "      <td>2022-03-03</td>\n",
       "      <td>5</td>\n",
       "      <td>She</td>\n",
       "      <td>681</td>\n",
       "      <td>LCO</td>\n",
       "      <td>0</td>\n",
       "      <td>G0</td>\n",
       "      <td>JC-681-LCO-0</td>\n",
       "      <td>5.39</td>\n",
       "      <td>5.17</td>\n",
       "      <td>4.02</td>\n",
       "      <td>-0.22</td>\n",
       "      <td>big_shift_pitch</td>\n",
       "      <td>-1.37</td>\n",
       "      <td>big_shift_tot</td>\n",
       "      <td>22061</td>\n",
       "      <td>False</td>\n",
       "      <td>NaN</td>\n",
       "    </tr>\n",
       "    <tr>\n",
       "      <th>24</th>\n",
       "      <td>JC</td>\n",
       "      <td>2022-03-23</td>\n",
       "      <td>4</td>\n",
       "      <td>She</td>\n",
       "      <td>684</td>\n",
       "      <td>LCO</td>\n",
       "      <td>1</td>\n",
       "      <td>G1-to-G4</td>\n",
       "      <td>JC-684-LCO-1</td>\n",
       "      <td>5.30</td>\n",
       "      <td>4.71</td>\n",
       "      <td>4.13</td>\n",
       "      <td>-0.59</td>\n",
       "      <td>big_shift_pitch</td>\n",
       "      <td>-1.17</td>\n",
       "      <td>big_shift_tot</td>\n",
       "      <td>NaN</td>\n",
       "      <td>False</td>\n",
       "      <td>NaN</td>\n",
       "    </tr>\n",
       "    <tr>\n",
       "      <th>25</th>\n",
       "      <td>JC</td>\n",
       "      <td>2022-04-19</td>\n",
       "      <td>4</td>\n",
       "      <td>She</td>\n",
       "      <td>689</td>\n",
       "      <td>LCO</td>\n",
       "      <td>2</td>\n",
       "      <td>G1-to-G4</td>\n",
       "      <td>JC-689-LCO-2</td>\n",
       "      <td>5.31</td>\n",
       "      <td>4.81</td>\n",
       "      <td>4.15</td>\n",
       "      <td>-0.50</td>\n",
       "      <td>big_shift_pitch</td>\n",
       "      <td>-1.16</td>\n",
       "      <td>big_shift_tot</td>\n",
       "      <td>NaN</td>\n",
       "      <td>False</td>\n",
       "      <td>NaN</td>\n",
       "    </tr>\n",
       "    <tr>\n",
       "      <th>26</th>\n",
       "      <td>JC</td>\n",
       "      <td>2022-05-12</td>\n",
       "      <td>4</td>\n",
       "      <td>She</td>\n",
       "      <td>694</td>\n",
       "      <td>LCO</td>\n",
       "      <td>3</td>\n",
       "      <td>G1-to-G4</td>\n",
       "      <td>JC-694-LCO-3</td>\n",
       "      <td>5.33</td>\n",
       "      <td>4.80</td>\n",
       "      <td>4.07</td>\n",
       "      <td>-0.53</td>\n",
       "      <td>big_shift_pitch</td>\n",
       "      <td>-1.26</td>\n",
       "      <td>big_shift_tot</td>\n",
       "      <td>NaN</td>\n",
       "      <td>False</td>\n",
       "      <td>NaN</td>\n",
       "    </tr>\n",
       "    <tr>\n",
       "      <th>27</th>\n",
       "      <td>JC</td>\n",
       "      <td>2022-05-26</td>\n",
       "      <td>4</td>\n",
       "      <td>She</td>\n",
       "      <td>696</td>\n",
       "      <td>LCO</td>\n",
       "      <td>0</td>\n",
       "      <td>G0</td>\n",
       "      <td>JC-696-LCO-0</td>\n",
       "      <td>5.36</td>\n",
       "      <td>4.98</td>\n",
       "      <td>4.07</td>\n",
       "      <td>-0.38</td>\n",
       "      <td>big_shift_pitch</td>\n",
       "      <td>-1.29</td>\n",
       "      <td>big_shift_tot</td>\n",
       "      <td>22178</td>\n",
       "      <td>False</td>\n",
       "      <td>12.0</td>\n",
       "    </tr>\n",
       "    <tr>\n",
       "      <th>28</th>\n",
       "      <td>JC</td>\n",
       "      <td>2022-07-20</td>\n",
       "      <td>4</td>\n",
       "      <td>She</td>\n",
       "      <td>706</td>\n",
       "      <td>LCO</td>\n",
       "      <td>0</td>\n",
       "      <td>G0</td>\n",
       "      <td>JC-706-LCO-0</td>\n",
       "      <td>5.10</td>\n",
       "      <td>4.93</td>\n",
       "      <td>4.16</td>\n",
       "      <td>-0.17</td>\n",
       "      <td>small_shift_pitch</td>\n",
       "      <td>-0.94</td>\n",
       "      <td>small_shift_tot</td>\n",
       "      <td>22178</td>\n",
       "      <td>False</td>\n",
       "      <td>NaN</td>\n",
       "    </tr>\n",
       "    <tr>\n",
       "      <th>29</th>\n",
       "      <td>JC</td>\n",
       "      <td>2022-08-09</td>\n",
       "      <td>4</td>\n",
       "      <td>She</td>\n",
       "      <td>709</td>\n",
       "      <td>LCO</td>\n",
       "      <td>1</td>\n",
       "      <td>G1-to-G4</td>\n",
       "      <td>JC-709-LCO-1</td>\n",
       "      <td>5.38</td>\n",
       "      <td>4.76</td>\n",
       "      <td>NaN</td>\n",
       "      <td>-0.62</td>\n",
       "      <td>big_shift_pitch</td>\n",
       "      <td>NaN</td>\n",
       "      <td>NA</td>\n",
       "      <td>sib706</td>\n",
       "      <td>False</td>\n",
       "      <td>11.7</td>\n",
       "    </tr>\n",
       "    <tr>\n",
       "      <th>30</th>\n",
       "      <td>JC</td>\n",
       "      <td>2022-08-09</td>\n",
       "      <td>4</td>\n",
       "      <td>She</td>\n",
       "      <td>704</td>\n",
       "      <td>LCO</td>\n",
       "      <td>1</td>\n",
       "      <td>G1-to-G4</td>\n",
       "      <td>JC-704-LCO-1</td>\n",
       "      <td>5.20</td>\n",
       "      <td>5.06</td>\n",
       "      <td>NaN</td>\n",
       "      <td>-0.14</td>\n",
       "      <td>small_shift_pitch</td>\n",
       "      <td>NaN</td>\n",
       "      <td>NA</td>\n",
       "      <td>sib701</td>\n",
       "      <td>False</td>\n",
       "      <td>12.8</td>\n",
       "    </tr>\n",
       "    <tr>\n",
       "      <th>31</th>\n",
       "      <td>JC</td>\n",
       "      <td>2022-09-02</td>\n",
       "      <td>2</td>\n",
       "      <td>She</td>\n",
       "      <td>713</td>\n",
       "      <td>LCO</td>\n",
       "      <td>0</td>\n",
       "      <td>G0</td>\n",
       "      <td>JC-713-LCO-0</td>\n",
       "      <td>5.36</td>\n",
       "      <td>4.71</td>\n",
       "      <td>4.01</td>\n",
       "      <td>-0.65</td>\n",
       "      <td>big_shift_pitch</td>\n",
       "      <td>-1.35</td>\n",
       "      <td>big_shift_tot</td>\n",
       "      <td>22546</td>\n",
       "      <td>False</td>\n",
       "      <td>12.3</td>\n",
       "    </tr>\n",
       "    <tr>\n",
       "      <th>32</th>\n",
       "      <td>JC</td>\n",
       "      <td>2022-09-16</td>\n",
       "      <td>1</td>\n",
       "      <td>Okt</td>\n",
       "      <td>717</td>\n",
       "      <td>LCO</td>\n",
       "      <td>0</td>\n",
       "      <td>G0</td>\n",
       "      <td>JC-717-LCO-0</td>\n",
       "      <td>5.26</td>\n",
       "      <td>5.03</td>\n",
       "      <td>3.83</td>\n",
       "      <td>-0.23</td>\n",
       "      <td>big_shift_pitch</td>\n",
       "      <td>-1.43</td>\n",
       "      <td>big_shift_tot</td>\n",
       "      <td>22583.22546.22582</td>\n",
       "      <td>True</td>\n",
       "      <td>11.3</td>\n",
       "    </tr>\n",
       "  </tbody>\n",
       "</table>\n",
       "</div>"
      ],
      "text/plain": [
       "     Lieu Date brassin  FV Bière  # brassin Levure  Gen label_gen  \\\n",
       "0   Dépôt   2022-09-14   8   TMB       1750    Boh    0        G0   \n",
       "1   Dépôt   2022-08-24   9   Gil       1740    Boh    0        G0   \n",
       "2   Dépôt   2022-08-24   8    VA       1739    Boh    0        G0   \n",
       "3   Dépôt   2022-07-27   8   TMB       1721    Boh    0        G0   \n",
       "4   Dépôt   2022-06-09   9   She       1694    Boh    0        G0   \n",
       "5   Dépôt   2022-07-29   9   Lei       1723    Boh    2  G1-to-G4   \n",
       "6   Dépôt   2022-06-30   9   TMB       1707    Boh    1  G1-to-G4   \n",
       "7   Dépôt   2022-06-28   8   Vie       1703    Boh    1  G1-to-G4   \n",
       "8   Dépôt   2022-05-17   9   TMB       1675    Boh    1  G1-to-G4   \n",
       "9   Dépôt   2022-04-06   9   TMB       1653    Boh    0        G0   \n",
       "10  Dépôt   2022-03-08   8    HP       1636    Boh    2  G1-to-G4   \n",
       "11  Dépôt   2022-02-25   3   LDR       1631    Boh    2  G1-to-G4   \n",
       "12  Dépôt   2022-02-15   6   She       1624    LCO    1  G1-to-G4   \n",
       "13  Dépôt   2022-02-08   9    HP       1620    Boh    1  G1-to-G4   \n",
       "14  Dépôt   2022-02-25   2    AF       1630    LCO    2  G1-to-G4   \n",
       "15  Dépôt   2021-12-23   6   Gil       1596    LCO    4  G1-to-G4   \n",
       "16     JC   2021-08-26   5   She        646    LCO    0        G0   \n",
       "17     JC   2021-09-15   2   She        649    LCO    3  G1-to-G4   \n",
       "18     JC   2021-09-29   5   She        652    LCO    1  G1-to-G4   \n",
       "19     JC   2021-10-12   2   She        654    LCO    4  G1-to-G4   \n",
       "20     JC   2022-01-05   5   She        669    LCO    2  G1-to-G4   \n",
       "21     JC   2022-01-26   4   She        674    LCO    3  G1-to-G4   \n",
       "22     JC   2022-02-17   3   She        678    LCO    4  G1-to-G4   \n",
       "23     JC   2022-03-03   5   She        681    LCO    0        G0   \n",
       "24     JC   2022-03-23   4   She        684    LCO    1  G1-to-G4   \n",
       "25     JC   2022-04-19   4   She        689    LCO    2  G1-to-G4   \n",
       "26     JC   2022-05-12   4   She        694    LCO    3  G1-to-G4   \n",
       "27     JC   2022-05-26   4   She        696    LCO    0        G0   \n",
       "28     JC   2022-07-20   4   She        706    LCO    0        G0   \n",
       "29     JC   2022-08-09   4   She        709    LCO    1  G1-to-G4   \n",
       "30     JC   2022-08-09   4   She        704    LCO    1  G1-to-G4   \n",
       "31     JC   2022-09-02   2   She        713    LCO    0        G0   \n",
       "32     JC   2022-09-16   1   Okt        717    LCO    0        G0   \n",
       "\n",
       "                     Tag  Post-Boil pH  Post-pitch pH (FV)  Final (pre-DH)  \\\n",
       "0   Dépôt-TMB-1750-Boh-0          5.26                5.12            4.23   \n",
       "1   Dépôt-Gil-1740-Boh-0          5.09                4.99            4.41   \n",
       "2    Dépôt-VA-1739-Boh-0          5.42                5.25            4.36   \n",
       "3   Dépôt-TMB-1721-Boh-0          5.48                5.41            4.64   \n",
       "4   Dépôt-She-1694-Boh-0          5.33                5.17            3.97   \n",
       "5   Dépôt-Lei-1723-Boh-2          5.32                5.22            4.52   \n",
       "6   Dépôt-TMB-1707-Boh-1          5.35                5.25            4.63   \n",
       "7   Dépôt-Vie-1703-Boh-1          4.86                 NaN            4.57   \n",
       "8   Dépôt-TMB-1675-Boh-1          5.31                5.29            4.74   \n",
       "9   Dépôt-TMB-1653-Boh-0          5.37                5.33            4.45   \n",
       "10   Dépôt-HP-1636-Boh-2           NaN                5.20            5.43   \n",
       "11  Dépôt-LDR-1631-Boh-2          5.43                5.34            4.42   \n",
       "12  Dépôt-She-1624-LCO-1          5.45                5.28            4.36   \n",
       "13   Dépôt-HP-1620-Boh-1          5.27                5.21            4.40   \n",
       "14   Dépôt-AF-1630-LCO-2          5.16                4.89            4.21   \n",
       "15  Dépôt-Gil-1596-LCO-4          4.98                5.07            4.61   \n",
       "16          JC-646-LCO-0          5.41                4.90            4.12   \n",
       "17          JC-649-LCO-3          5.41                5.02            4.63   \n",
       "18          JC-652-LCO-1          5.44                4.89            4.44   \n",
       "19          JC-654-LCO-4          5.35                5.31            4.72   \n",
       "20          JC-669-LCO-2          5.30                4.85            4.17   \n",
       "21          JC-674-LCO-3          5.31                4.80            4.19   \n",
       "22          JC-678-LCO-4          5.37                4.92            4.38   \n",
       "23          JC-681-LCO-0          5.39                5.17            4.02   \n",
       "24          JC-684-LCO-1          5.30                4.71            4.13   \n",
       "25          JC-689-LCO-2          5.31                4.81            4.15   \n",
       "26          JC-694-LCO-3          5.33                4.80            4.07   \n",
       "27          JC-696-LCO-0          5.36                4.98            4.07   \n",
       "28          JC-706-LCO-0          5.10                4.93            4.16   \n",
       "29          JC-709-LCO-1          5.38                4.76             NaN   \n",
       "30          JC-704-LCO-1          5.20                5.06             NaN   \n",
       "31          JC-713-LCO-0          5.36                4.71            4.01   \n",
       "32          JC-717-LCO-0          5.26                5.03            3.83   \n",
       "\n",
       "    diff pitch pH   label_diff_pitch  diff Total pH   label_diff_tot  \\\n",
       "0           -0.14  small_shift_pitch          -1.03    big_shift_tot   \n",
       "1           -0.10  small_shift_pitch          -0.68  small_shift_tot   \n",
       "2           -0.17  small_shift_pitch          -1.06    big_shift_tot   \n",
       "3           -0.07  small_shift_pitch          -0.84  small_shift_tot   \n",
       "4           -0.16  small_shift_pitch          -1.36    big_shift_tot   \n",
       "5           -0.10  small_shift_pitch          -0.80  small_shift_tot   \n",
       "6           -0.10  small_shift_pitch          -0.72  small_shift_tot   \n",
       "7             NaN                 NA          -0.29  small_shift_tot   \n",
       "8           -0.02  small_shift_pitch          -0.57  small_shift_tot   \n",
       "9           -0.04  small_shift_pitch          -0.92  small_shift_tot   \n",
       "10            NaN                 NA            NaN               NA   \n",
       "11          -0.09  small_shift_pitch          -1.01    big_shift_tot   \n",
       "12          -0.17  small_shift_pitch          -1.09    big_shift_tot   \n",
       "13          -0.06  small_shift_pitch          -0.87  small_shift_tot   \n",
       "14          -0.27    big_shift_pitch          -0.95  small_shift_tot   \n",
       "15           0.09  small_shift_pitch          -0.37  small_shift_tot   \n",
       "16          -0.51    big_shift_pitch          -1.29    big_shift_tot   \n",
       "17          -0.39    big_shift_pitch          -0.78  small_shift_tot   \n",
       "18          -0.55    big_shift_pitch          -1.00    big_shift_tot   \n",
       "19          -0.04  small_shift_pitch          -0.63  small_shift_tot   \n",
       "20          -0.45    big_shift_pitch          -1.13    big_shift_tot   \n",
       "21          -0.51    big_shift_pitch          -1.12    big_shift_tot   \n",
       "22          -0.45    big_shift_pitch          -0.99  small_shift_tot   \n",
       "23          -0.22    big_shift_pitch          -1.37    big_shift_tot   \n",
       "24          -0.59    big_shift_pitch          -1.17    big_shift_tot   \n",
       "25          -0.50    big_shift_pitch          -1.16    big_shift_tot   \n",
       "26          -0.53    big_shift_pitch          -1.26    big_shift_tot   \n",
       "27          -0.38    big_shift_pitch          -1.29    big_shift_tot   \n",
       "28          -0.17  small_shift_pitch          -0.94  small_shift_tot   \n",
       "29          -0.62    big_shift_pitch            NaN               NA   \n",
       "30          -0.14  small_shift_pitch            NaN               NA   \n",
       "31          -0.65    big_shift_pitch          -1.35    big_shift_tot   \n",
       "32          -0.23    big_shift_pitch          -1.43    big_shift_tot   \n",
       "\n",
       "         # lot levure  Specialty Torref. malts  OG (P)  \n",
       "0                 NaN                    False    11.9  \n",
       "1               22529                     True    17.4  \n",
       "2               22529                     True    11.2  \n",
       "3               22219                    False    11.9  \n",
       "4               22219                    False    11.9  \n",
       "5             sib1703                    False     8.6  \n",
       "6             sib1674                    False    10.7  \n",
       "7             sib1694                     True    10.6  \n",
       "8             sib1653                    False    11.3  \n",
       "9               22046                    False    12.4  \n",
       "10            sib1620                    False    12.3  \n",
       "11            sib1609                    False    10.4  \n",
       "12            sib1606                    False    12.0  \n",
       "13            sib1601                    False    12.1  \n",
       "14            sib1616                    False    11.4  \n",
       "15                NaN                     True    15.8  \n",
       "16                NaN                    False     NaN  \n",
       "17                NaN                    False     NaN  \n",
       "18                NaN                    False     NaN  \n",
       "19                NaN                    False     NaN  \n",
       "20                NaN                    False     NaN  \n",
       "21                NaN                    False     NaN  \n",
       "22                NaN                    False     NaN  \n",
       "23              22061                    False     NaN  \n",
       "24                NaN                    False     NaN  \n",
       "25                NaN                    False     NaN  \n",
       "26                NaN                    False     NaN  \n",
       "27              22178                    False    12.0  \n",
       "28              22178                    False     NaN  \n",
       "29             sib706                    False    11.7  \n",
       "30             sib701                    False    12.8  \n",
       "31              22546                    False    12.3  \n",
       "32  22583.22546.22582                     True    11.3  "
      ]
     },
     "execution_count": 5,
     "metadata": {},
     "output_type": "execute_result"
    }
   ],
   "source": [
    "def label_gen(row):\n",
    "    if row['Gen'] == 0 :\n",
    "        return 'G0'\n",
    "    elif row['Gen'] >= 1 :\n",
    "        return 'G1-to-G4'\n",
    "    else :\n",
    "        return 'NA'\n",
    "# Check for proper function behavior\n",
    "lab_gen = df.apply(lambda row: label_gen(row), axis=1)\n",
    "# Apply to df and create column\n",
    "df.insert(7,\"label_gen\",lab_gen)\n",
    "df"
   ]
  },
  {
   "cell_type": "markdown",
   "id": "b38e5c29",
   "metadata": {
    "papermill": {
     "duration": 0.013333,
     "end_time": "2022-09-22T18:43:53.961699",
     "exception": false,
     "start_time": "2022-09-22T18:43:53.948366",
     "status": "completed"
    },
    "tags": []
   },
   "source": [
    "# Basic categorical feature visualization\n",
    "- Whole Dataframe\n",
    "- brews per site\n",
    "- styles brewed\n",
    "- generations\n",
    "- yeast type"
   ]
  },
  {
   "cell_type": "code",
   "execution_count": 6,
   "id": "bd6afe73",
   "metadata": {
    "execution": {
     "iopub.execute_input": "2022-09-22T18:43:53.991192Z",
     "iopub.status.busy": "2022-09-22T18:43:53.990689Z",
     "iopub.status.idle": "2022-09-22T18:43:54.016887Z",
     "shell.execute_reply": "2022-09-22T18:43:54.014642Z"
    },
    "papermill": {
     "duration": 0.041994,
     "end_time": "2022-09-22T18:43:54.020304",
     "exception": false,
     "start_time": "2022-09-22T18:43:53.978310",
     "status": "completed"
    },
    "tags": []
   },
   "outputs": [
    {
     "data": {
      "text/html": [
       "<div>\n",
       "<style scoped>\n",
       "    .dataframe tbody tr th:only-of-type {\n",
       "        vertical-align: middle;\n",
       "    }\n",
       "\n",
       "    .dataframe tbody tr th {\n",
       "        vertical-align: top;\n",
       "    }\n",
       "\n",
       "    .dataframe thead th {\n",
       "        text-align: right;\n",
       "    }\n",
       "</style>\n",
       "<table border=\"1\" class=\"dataframe\">\n",
       "  <thead>\n",
       "    <tr style=\"text-align: right;\">\n",
       "      <th></th>\n",
       "      <th>Lieu</th>\n",
       "      <th>Date brassin</th>\n",
       "      <th>FV</th>\n",
       "      <th>Bière</th>\n",
       "      <th># brassin</th>\n",
       "      <th>Levure</th>\n",
       "      <th>Gen</th>\n",
       "      <th>label_gen</th>\n",
       "      <th>Tag</th>\n",
       "      <th>Post-Boil pH</th>\n",
       "      <th>Post-pitch pH (FV)</th>\n",
       "      <th>Final (pre-DH)</th>\n",
       "      <th>diff pitch pH</th>\n",
       "      <th>label_diff_pitch</th>\n",
       "      <th>diff Total pH</th>\n",
       "      <th>label_diff_tot</th>\n",
       "      <th># lot levure</th>\n",
       "      <th>Specialty Torref. malts</th>\n",
       "      <th>OG (P)</th>\n",
       "    </tr>\n",
       "  </thead>\n",
       "  <tbody>\n",
       "    <tr>\n",
       "      <th>0</th>\n",
       "      <td>Dépôt</td>\n",
       "      <td>2022-09-14</td>\n",
       "      <td>8</td>\n",
       "      <td>TMB</td>\n",
       "      <td>1750</td>\n",
       "      <td>Boh</td>\n",
       "      <td>0</td>\n",
       "      <td>G0</td>\n",
       "      <td>Dépôt-TMB-1750-Boh-0</td>\n",
       "      <td>5.26</td>\n",
       "      <td>5.12</td>\n",
       "      <td>4.23</td>\n",
       "      <td>-0.14</td>\n",
       "      <td>small_shift_pitch</td>\n",
       "      <td>-1.03</td>\n",
       "      <td>big_shift_tot</td>\n",
       "      <td>NaN</td>\n",
       "      <td>False</td>\n",
       "      <td>11.9</td>\n",
       "    </tr>\n",
       "    <tr>\n",
       "      <th>1</th>\n",
       "      <td>Dépôt</td>\n",
       "      <td>2022-08-24</td>\n",
       "      <td>9</td>\n",
       "      <td>Gil</td>\n",
       "      <td>1740</td>\n",
       "      <td>Boh</td>\n",
       "      <td>0</td>\n",
       "      <td>G0</td>\n",
       "      <td>Dépôt-Gil-1740-Boh-0</td>\n",
       "      <td>5.09</td>\n",
       "      <td>4.99</td>\n",
       "      <td>4.41</td>\n",
       "      <td>-0.10</td>\n",
       "      <td>small_shift_pitch</td>\n",
       "      <td>-0.68</td>\n",
       "      <td>small_shift_tot</td>\n",
       "      <td>22529</td>\n",
       "      <td>True</td>\n",
       "      <td>17.4</td>\n",
       "    </tr>\n",
       "    <tr>\n",
       "      <th>2</th>\n",
       "      <td>Dépôt</td>\n",
       "      <td>2022-08-24</td>\n",
       "      <td>8</td>\n",
       "      <td>VA</td>\n",
       "      <td>1739</td>\n",
       "      <td>Boh</td>\n",
       "      <td>0</td>\n",
       "      <td>G0</td>\n",
       "      <td>Dépôt-VA-1739-Boh-0</td>\n",
       "      <td>5.42</td>\n",
       "      <td>5.25</td>\n",
       "      <td>4.36</td>\n",
       "      <td>-0.17</td>\n",
       "      <td>small_shift_pitch</td>\n",
       "      <td>-1.06</td>\n",
       "      <td>big_shift_tot</td>\n",
       "      <td>22529</td>\n",
       "      <td>True</td>\n",
       "      <td>11.2</td>\n",
       "    </tr>\n",
       "    <tr>\n",
       "      <th>3</th>\n",
       "      <td>Dépôt</td>\n",
       "      <td>2022-07-27</td>\n",
       "      <td>8</td>\n",
       "      <td>TMB</td>\n",
       "      <td>1721</td>\n",
       "      <td>Boh</td>\n",
       "      <td>0</td>\n",
       "      <td>G0</td>\n",
       "      <td>Dépôt-TMB-1721-Boh-0</td>\n",
       "      <td>5.48</td>\n",
       "      <td>5.41</td>\n",
       "      <td>4.64</td>\n",
       "      <td>-0.07</td>\n",
       "      <td>small_shift_pitch</td>\n",
       "      <td>-0.84</td>\n",
       "      <td>small_shift_tot</td>\n",
       "      <td>22219</td>\n",
       "      <td>False</td>\n",
       "      <td>11.9</td>\n",
       "    </tr>\n",
       "    <tr>\n",
       "      <th>4</th>\n",
       "      <td>Dépôt</td>\n",
       "      <td>2022-06-09</td>\n",
       "      <td>9</td>\n",
       "      <td>She</td>\n",
       "      <td>1694</td>\n",
       "      <td>Boh</td>\n",
       "      <td>0</td>\n",
       "      <td>G0</td>\n",
       "      <td>Dépôt-She-1694-Boh-0</td>\n",
       "      <td>5.33</td>\n",
       "      <td>5.17</td>\n",
       "      <td>3.97</td>\n",
       "      <td>-0.16</td>\n",
       "      <td>small_shift_pitch</td>\n",
       "      <td>-1.36</td>\n",
       "      <td>big_shift_tot</td>\n",
       "      <td>22219</td>\n",
       "      <td>False</td>\n",
       "      <td>11.9</td>\n",
       "    </tr>\n",
       "  </tbody>\n",
       "</table>\n",
       "</div>"
      ],
      "text/plain": [
       "    Lieu Date brassin  FV Bière  # brassin Levure  Gen label_gen  \\\n",
       "0  Dépôt   2022-09-14   8   TMB       1750    Boh    0        G0   \n",
       "1  Dépôt   2022-08-24   9   Gil       1740    Boh    0        G0   \n",
       "2  Dépôt   2022-08-24   8    VA       1739    Boh    0        G0   \n",
       "3  Dépôt   2022-07-27   8   TMB       1721    Boh    0        G0   \n",
       "4  Dépôt   2022-06-09   9   She       1694    Boh    0        G0   \n",
       "\n",
       "                    Tag  Post-Boil pH  Post-pitch pH (FV)  Final (pre-DH)  \\\n",
       "0  Dépôt-TMB-1750-Boh-0          5.26                5.12            4.23   \n",
       "1  Dépôt-Gil-1740-Boh-0          5.09                4.99            4.41   \n",
       "2   Dépôt-VA-1739-Boh-0          5.42                5.25            4.36   \n",
       "3  Dépôt-TMB-1721-Boh-0          5.48                5.41            4.64   \n",
       "4  Dépôt-She-1694-Boh-0          5.33                5.17            3.97   \n",
       "\n",
       "   diff pitch pH   label_diff_pitch  diff Total pH   label_diff_tot  \\\n",
       "0          -0.14  small_shift_pitch          -1.03    big_shift_tot   \n",
       "1          -0.10  small_shift_pitch          -0.68  small_shift_tot   \n",
       "2          -0.17  small_shift_pitch          -1.06    big_shift_tot   \n",
       "3          -0.07  small_shift_pitch          -0.84  small_shift_tot   \n",
       "4          -0.16  small_shift_pitch          -1.36    big_shift_tot   \n",
       "\n",
       "  # lot levure  Specialty Torref. malts  OG (P)  \n",
       "0          NaN                    False    11.9  \n",
       "1        22529                     True    17.4  \n",
       "2        22529                     True    11.2  \n",
       "3        22219                    False    11.9  \n",
       "4        22219                    False    11.9  "
      ]
     },
     "execution_count": 6,
     "metadata": {},
     "output_type": "execute_result"
    }
   ],
   "source": [
    "# View whole dataframe\n",
    "df.head()"
   ]
  },
  {
   "cell_type": "code",
   "execution_count": 7,
   "id": "f60e9dea",
   "metadata": {
    "execution": {
     "iopub.execute_input": "2022-09-22T18:43:54.047545Z",
     "iopub.status.busy": "2022-09-22T18:43:54.046984Z",
     "iopub.status.idle": "2022-09-22T18:43:54.103465Z",
     "shell.execute_reply": "2022-09-22T18:43:54.102124Z"
    },
    "papermill": {
     "duration": 0.074637,
     "end_time": "2022-09-22T18:43:54.106643",
     "exception": false,
     "start_time": "2022-09-22T18:43:54.032006",
     "status": "completed"
    },
    "tags": []
   },
   "outputs": [
    {
     "data": {
      "text/html": [
       "<div>\n",
       "<style scoped>\n",
       "    .dataframe tbody tr th:only-of-type {\n",
       "        vertical-align: middle;\n",
       "    }\n",
       "\n",
       "    .dataframe tbody tr th {\n",
       "        vertical-align: top;\n",
       "    }\n",
       "\n",
       "    .dataframe thead th {\n",
       "        text-align: right;\n",
       "    }\n",
       "</style>\n",
       "<table border=\"1\" class=\"dataframe\">\n",
       "  <thead>\n",
       "    <tr style=\"text-align: right;\">\n",
       "      <th></th>\n",
       "      <th>FV</th>\n",
       "      <th># brassin</th>\n",
       "      <th>Gen</th>\n",
       "      <th>Post-Boil pH</th>\n",
       "      <th>Post-pitch pH (FV)</th>\n",
       "      <th>Final (pre-DH)</th>\n",
       "      <th>diff pitch pH</th>\n",
       "      <th>diff Total pH</th>\n",
       "      <th>OG (P)</th>\n",
       "    </tr>\n",
       "  </thead>\n",
       "  <tbody>\n",
       "    <tr>\n",
       "      <th>count</th>\n",
       "      <td>33.000000</td>\n",
       "      <td>33.000000</td>\n",
       "      <td>33.000000</td>\n",
       "      <td>32.000000</td>\n",
       "      <td>32.000000</td>\n",
       "      <td>31.000000</td>\n",
       "      <td>31.000000</td>\n",
       "      <td>30.000000</td>\n",
       "      <td>21.000000</td>\n",
       "    </tr>\n",
       "    <tr>\n",
       "      <th>mean</th>\n",
       "      <td>5.515152</td>\n",
       "      <td>1165.363636</td>\n",
       "      <td>1.272727</td>\n",
       "      <td>5.301875</td>\n",
       "      <td>5.052187</td>\n",
       "      <td>4.356129</td>\n",
       "      <td>-0.268710</td>\n",
       "      <td>-0.982333</td>\n",
       "      <td>12.000000</td>\n",
       "    </tr>\n",
       "    <tr>\n",
       "      <th>std</th>\n",
       "      <td>2.611527</td>\n",
       "      <td>506.122442</td>\n",
       "      <td>1.305582</td>\n",
       "      <td>0.137100</td>\n",
       "      <td>0.205877</td>\n",
       "      <td>0.312822</td>\n",
       "      <td>0.212583</td>\n",
       "      <td>0.290418</td>\n",
       "      <td>1.795272</td>\n",
       "    </tr>\n",
       "    <tr>\n",
       "      <th>min</th>\n",
       "      <td>1.000000</td>\n",
       "      <td>646.000000</td>\n",
       "      <td>0.000000</td>\n",
       "      <td>4.860000</td>\n",
       "      <td>4.710000</td>\n",
       "      <td>3.830000</td>\n",
       "      <td>-0.650000</td>\n",
       "      <td>-1.430000</td>\n",
       "      <td>8.600000</td>\n",
       "    </tr>\n",
       "    <tr>\n",
       "      <th>25%</th>\n",
       "      <td>4.000000</td>\n",
       "      <td>684.000000</td>\n",
       "      <td>0.000000</td>\n",
       "      <td>5.267500</td>\n",
       "      <td>4.890000</td>\n",
       "      <td>4.140000</td>\n",
       "      <td>-0.475000</td>\n",
       "      <td>-1.167500</td>\n",
       "      <td>11.300000</td>\n",
       "    </tr>\n",
       "    <tr>\n",
       "      <th>50%</th>\n",
       "      <td>5.000000</td>\n",
       "      <td>717.000000</td>\n",
       "      <td>1.000000</td>\n",
       "      <td>5.330000</td>\n",
       "      <td>5.045000</td>\n",
       "      <td>4.360000</td>\n",
       "      <td>-0.170000</td>\n",
       "      <td>-1.005000</td>\n",
       "      <td>11.900000</td>\n",
       "    </tr>\n",
       "    <tr>\n",
       "      <th>75%</th>\n",
       "      <td>8.000000</td>\n",
       "      <td>1675.000000</td>\n",
       "      <td>2.000000</td>\n",
       "      <td>5.382500</td>\n",
       "      <td>5.227500</td>\n",
       "      <td>4.545000</td>\n",
       "      <td>-0.100000</td>\n",
       "      <td>-0.810000</td>\n",
       "      <td>12.300000</td>\n",
       "    </tr>\n",
       "    <tr>\n",
       "      <th>max</th>\n",
       "      <td>9.000000</td>\n",
       "      <td>1750.000000</td>\n",
       "      <td>4.000000</td>\n",
       "      <td>5.480000</td>\n",
       "      <td>5.410000</td>\n",
       "      <td>5.430000</td>\n",
       "      <td>0.090000</td>\n",
       "      <td>-0.290000</td>\n",
       "      <td>17.400000</td>\n",
       "    </tr>\n",
       "  </tbody>\n",
       "</table>\n",
       "</div>"
      ],
      "text/plain": [
       "              FV    # brassin        Gen  Post-Boil pH  Post-pitch pH (FV)  \\\n",
       "count  33.000000    33.000000  33.000000     32.000000           32.000000   \n",
       "mean    5.515152  1165.363636   1.272727      5.301875            5.052187   \n",
       "std     2.611527   506.122442   1.305582      0.137100            0.205877   \n",
       "min     1.000000   646.000000   0.000000      4.860000            4.710000   \n",
       "25%     4.000000   684.000000   0.000000      5.267500            4.890000   \n",
       "50%     5.000000   717.000000   1.000000      5.330000            5.045000   \n",
       "75%     8.000000  1675.000000   2.000000      5.382500            5.227500   \n",
       "max     9.000000  1750.000000   4.000000      5.480000            5.410000   \n",
       "\n",
       "       Final (pre-DH)  diff pitch pH  diff Total pH     OG (P)  \n",
       "count       31.000000      31.000000      30.000000  21.000000  \n",
       "mean         4.356129      -0.268710      -0.982333  12.000000  \n",
       "std          0.312822       0.212583       0.290418   1.795272  \n",
       "min          3.830000      -0.650000      -1.430000   8.600000  \n",
       "25%          4.140000      -0.475000      -1.167500  11.300000  \n",
       "50%          4.360000      -0.170000      -1.005000  11.900000  \n",
       "75%          4.545000      -0.100000      -0.810000  12.300000  \n",
       "max          5.430000       0.090000      -0.290000  17.400000  "
      ]
     },
     "execution_count": 7,
     "metadata": {},
     "output_type": "execute_result"
    }
   ],
   "source": [
    "df.describe()"
   ]
  },
  {
   "cell_type": "markdown",
   "id": "69f1cdcb",
   "metadata": {
    "papermill": {
     "duration": 0.010646,
     "end_time": "2022-09-22T18:43:54.129491",
     "exception": false,
     "start_time": "2022-09-22T18:43:54.118845",
     "status": "completed"
    },
    "tags": []
   },
   "source": [
    "## Get frequency counts for pH shifts (categories) and gen (G0 vs. G1-4)"
   ]
  },
  {
   "cell_type": "code",
   "execution_count": 8,
   "id": "e6b2e9fe",
   "metadata": {
    "execution": {
     "iopub.execute_input": "2022-09-22T18:43:54.156130Z",
     "iopub.status.busy": "2022-09-22T18:43:54.155635Z",
     "iopub.status.idle": "2022-09-22T18:43:54.180095Z",
     "shell.execute_reply": "2022-09-22T18:43:54.178025Z"
    },
    "papermill": {
     "duration": 0.040515,
     "end_time": "2022-09-22T18:43:54.183350",
     "exception": false,
     "start_time": "2022-09-22T18:43:54.142835",
     "status": "completed"
    },
    "tags": []
   },
   "outputs": [
    {
     "data": {
      "text/html": [
       "<div>\n",
       "<style scoped>\n",
       "    .dataframe tbody tr th:only-of-type {\n",
       "        vertical-align: middle;\n",
       "    }\n",
       "\n",
       "    .dataframe tbody tr th {\n",
       "        vertical-align: top;\n",
       "    }\n",
       "\n",
       "    .dataframe thead th {\n",
       "        text-align: right;\n",
       "    }\n",
       "</style>\n",
       "<table border=\"1\" class=\"dataframe\">\n",
       "  <thead>\n",
       "    <tr style=\"text-align: right;\">\n",
       "      <th></th>\n",
       "      <th></th>\n",
       "      <th></th>\n",
       "      <th>label_diff_pitch</th>\n",
       "    </tr>\n",
       "    <tr>\n",
       "      <th>Levure</th>\n",
       "      <th>label_gen</th>\n",
       "      <th>label_diff_pitch</th>\n",
       "      <th></th>\n",
       "    </tr>\n",
       "  </thead>\n",
       "  <tbody>\n",
       "    <tr>\n",
       "      <th rowspan=\"2\" valign=\"top\">Boh</th>\n",
       "      <th>G0</th>\n",
       "      <th>small_shift_pitch</th>\n",
       "      <td>6</td>\n",
       "    </tr>\n",
       "    <tr>\n",
       "      <th>G1-to-G4</th>\n",
       "      <th>small_shift_pitch</th>\n",
       "      <td>5</td>\n",
       "    </tr>\n",
       "    <tr>\n",
       "      <th rowspan=\"4\" valign=\"top\">LCO</th>\n",
       "      <th rowspan=\"2\" valign=\"top\">G0</th>\n",
       "      <th>big_shift_pitch</th>\n",
       "      <td>5</td>\n",
       "    </tr>\n",
       "    <tr>\n",
       "      <th>small_shift_pitch</th>\n",
       "      <td>1</td>\n",
       "    </tr>\n",
       "    <tr>\n",
       "      <th rowspan=\"2\" valign=\"top\">G1-to-G4</th>\n",
       "      <th>big_shift_pitch</th>\n",
       "      <td>9</td>\n",
       "    </tr>\n",
       "    <tr>\n",
       "      <th>small_shift_pitch</th>\n",
       "      <td>3</td>\n",
       "    </tr>\n",
       "  </tbody>\n",
       "</table>\n",
       "</div>"
      ],
      "text/plain": [
       "                                    label_diff_pitch\n",
       "Levure label_gen label_diff_pitch                   \n",
       "Boh    G0        small_shift_pitch                 6\n",
       "       G1-to-G4  small_shift_pitch                 5\n",
       "LCO    G0        big_shift_pitch                   5\n",
       "                 small_shift_pitch                 1\n",
       "       G1-to-G4  big_shift_pitch                   9\n",
       "                 small_shift_pitch                 3"
      ]
     },
     "execution_count": 8,
     "metadata": {},
     "output_type": "execute_result"
    }
   ],
   "source": [
    "# For pH shifts from post-boil to post-pitch\n",
    "df_diff_naless = df.dropna(subset=['diff pitch pH','diff Total pH'])\n",
    "counts_dp = df_diff_naless.groupby(['Levure','label_gen','label_diff_pitch'])['label_diff_pitch'].count()\n",
    "counts_dp.to_frame()"
   ]
  },
  {
   "cell_type": "code",
   "execution_count": 9,
   "id": "ffc95e7f",
   "metadata": {
    "execution": {
     "iopub.execute_input": "2022-09-22T18:43:54.210371Z",
     "iopub.status.busy": "2022-09-22T18:43:54.208857Z",
     "iopub.status.idle": "2022-09-22T18:43:54.226752Z",
     "shell.execute_reply": "2022-09-22T18:43:54.225488Z"
    },
    "papermill": {
     "duration": 0.034303,
     "end_time": "2022-09-22T18:43:54.230012",
     "exception": false,
     "start_time": "2022-09-22T18:43:54.195709",
     "status": "completed"
    },
    "tags": []
   },
   "outputs": [
    {
     "data": {
      "text/html": [
       "<div>\n",
       "<style scoped>\n",
       "    .dataframe tbody tr th:only-of-type {\n",
       "        vertical-align: middle;\n",
       "    }\n",
       "\n",
       "    .dataframe tbody tr th {\n",
       "        vertical-align: top;\n",
       "    }\n",
       "\n",
       "    .dataframe thead th {\n",
       "        text-align: right;\n",
       "    }\n",
       "</style>\n",
       "<table border=\"1\" class=\"dataframe\">\n",
       "  <thead>\n",
       "    <tr style=\"text-align: right;\">\n",
       "      <th></th>\n",
       "      <th></th>\n",
       "      <th></th>\n",
       "      <th>label_diff_tot</th>\n",
       "    </tr>\n",
       "    <tr>\n",
       "      <th>Levure</th>\n",
       "      <th>label_gen</th>\n",
       "      <th>label_diff_tot</th>\n",
       "      <th></th>\n",
       "    </tr>\n",
       "  </thead>\n",
       "  <tbody>\n",
       "    <tr>\n",
       "      <th rowspan=\"4\" valign=\"top\">Boh</th>\n",
       "      <th rowspan=\"2\" valign=\"top\">G0</th>\n",
       "      <th>big_shift_tot</th>\n",
       "      <td>3</td>\n",
       "    </tr>\n",
       "    <tr>\n",
       "      <th>small_shift_tot</th>\n",
       "      <td>3</td>\n",
       "    </tr>\n",
       "    <tr>\n",
       "      <th rowspan=\"2\" valign=\"top\">G1-to-G4</th>\n",
       "      <th>big_shift_tot</th>\n",
       "      <td>1</td>\n",
       "    </tr>\n",
       "    <tr>\n",
       "      <th>small_shift_tot</th>\n",
       "      <td>4</td>\n",
       "    </tr>\n",
       "    <tr>\n",
       "      <th rowspan=\"4\" valign=\"top\">LCO</th>\n",
       "      <th rowspan=\"2\" valign=\"top\">G0</th>\n",
       "      <th>big_shift_tot</th>\n",
       "      <td>5</td>\n",
       "    </tr>\n",
       "    <tr>\n",
       "      <th>small_shift_tot</th>\n",
       "      <td>1</td>\n",
       "    </tr>\n",
       "    <tr>\n",
       "      <th rowspan=\"2\" valign=\"top\">G1-to-G4</th>\n",
       "      <th>big_shift_tot</th>\n",
       "      <td>7</td>\n",
       "    </tr>\n",
       "    <tr>\n",
       "      <th>small_shift_tot</th>\n",
       "      <td>5</td>\n",
       "    </tr>\n",
       "  </tbody>\n",
       "</table>\n",
       "</div>"
      ],
      "text/plain": [
       "                                  label_diff_tot\n",
       "Levure label_gen label_diff_tot                 \n",
       "Boh    G0        big_shift_tot                 3\n",
       "                 small_shift_tot               3\n",
       "       G1-to-G4  big_shift_tot                 1\n",
       "                 small_shift_tot               4\n",
       "LCO    G0        big_shift_tot                 5\n",
       "                 small_shift_tot               1\n",
       "       G1-to-G4  big_shift_tot                 7\n",
       "                 small_shift_tot               5"
      ]
     },
     "execution_count": 9,
     "metadata": {},
     "output_type": "execute_result"
    }
   ],
   "source": [
    "# For pH shifts from post-boil to total (pre-DH)\n",
    "counts_tp = df_diff_naless.groupby(['Levure','label_gen','label_diff_tot'])['label_diff_tot'].count()\n",
    "counts_tp.to_frame()"
   ]
  },
  {
   "cell_type": "markdown",
   "id": "5cd8fbe2",
   "metadata": {
    "papermill": {
     "duration": 0.011201,
     "end_time": "2022-09-22T18:43:54.253067",
     "exception": false,
     "start_time": "2022-09-22T18:43:54.241866",
     "status": "completed"
    },
    "tags": []
   },
   "source": [
    "**Almost even distribution of number of batches brewed per site, but...**"
   ]
  },
  {
   "cell_type": "code",
   "execution_count": 10,
   "id": "cb8b2e98",
   "metadata": {
    "execution": {
     "iopub.execute_input": "2022-09-22T18:43:54.278217Z",
     "iopub.status.busy": "2022-09-22T18:43:54.277753Z",
     "iopub.status.idle": "2022-09-22T18:43:54.617956Z",
     "shell.execute_reply": "2022-09-22T18:43:54.616531Z"
    },
    "papermill": {
     "duration": 0.356226,
     "end_time": "2022-09-22T18:43:54.620942",
     "exception": false,
     "start_time": "2022-09-22T18:43:54.264716",
     "status": "completed"
    },
    "tags": []
   },
   "outputs": [
    {
     "data": {
      "image/png": "[encoded data removed]",
      "text/plain": [
       "<Figure size 432x288 with 1 Axes>"
      ]
     },
     "metadata": {
      "needs_background": "light"
     },
     "output_type": "display_data"
    }
   ],
   "source": [
    "# Batches per site\n",
    "p_site = sns.histplot(data=df, x=\"Lieu\", hue=\"Lieu\")\n",
    "p_site.set(title = \"Batches per site\")\n",
    "p_site.set_xlabel(\"Site\", fontsize = 15)\n",
    "p_site.set_ylabel(\"Count\", fontsize = 12)\n",
    "# label each bar in histogram\n",
    "for p in p_site.patches:\n",
    " height = p.get_height() # get the height of each bar\n",
    " # adding text to each bar\n",
    " p_site.text(x = p.get_x()+(p.get_width()/2), # x-coordinate position of data label, padded to be in the middle of the bar\n",
    " y = height+0.2, # y-coordinate position of data label, padded 0.2 above bar\n",
    " s = '{:.0f}'.format(height), # data label, formatted to ignore decimals\n",
    " ha = 'center') # sets horizontal alignment (ha) to center\n",
    "\n"
   ]
  },
  {
   "cell_type": "markdown",
   "id": "b9c45fce",
   "metadata": {
    "papermill": {
     "duration": 0.012117,
     "end_time": "2022-09-22T18:43:54.644897",
     "exception": false,
     "start_time": "2022-09-22T18:43:54.632780",
     "status": "completed"
    },
    "tags": []
   },
   "source": [
    "**As we can see, most of the lagers brewed at JC are Sherbiere, at least in this dataset/time period**"
   ]
  },
  {
   "cell_type": "code",
   "execution_count": 11,
   "id": "e3e406ab",
   "metadata": {
    "execution": {
     "iopub.execute_input": "2022-09-22T18:43:54.671203Z",
     "iopub.status.busy": "2022-09-22T18:43:54.670685Z",
     "iopub.status.idle": "2022-09-22T18:43:55.187318Z",
     "shell.execute_reply": "2022-09-22T18:43:55.185997Z"
    },
    "papermill": {
     "duration": 0.532945,
     "end_time": "2022-09-22T18:43:55.190014",
     "exception": false,
     "start_time": "2022-09-22T18:43:54.657069",
     "status": "completed"
    },
    "tags": []
   },
   "outputs": [
    {
     "data": {
      "image/png": "[encoded data removed]",
      "text/plain": [
       "<Figure size 432x288 with 1 Axes>"
      ]
     },
     "metadata": {
      "needs_background": "light"
     },
     "output_type": "display_data"
    }
   ],
   "source": [
    "# Batches per site with SKUs\n",
    "p_sitesku = sns.histplot(data=df, x=\"Lieu\", hue=\"Bière\",shrink=0.8, multiple=\"dodge\")\n",
    "p_sitesku.set(title = \"Batches per site\")\n",
    "p_sitesku.set_xlabel(\"Site\", fontsize = 15)\n",
    "p_sitesku.set_ylabel(\"Count\", fontsize= 12)\n",
    "# label each bar in histogram\n",
    "for p in p_sitesku.patches:\n",
    " height = p.get_height() # get the height of each bar\n",
    " # adding text to each bar\n",
    " p_sitesku.text(x = p.get_x()+(p.get_width()/2), # x-coordinate position of data label, padded to be in the middle of the bar\n",
    " y = height+0.2, # y-coordinate position of data label, padded 0.2 above bar\n",
    " s = '{:.0f}'.format(height), # data label, formatted to ignore decimals\n",
    " ha = 'center') # sets horizontal alignment (ha) to center"
   ]
  },
  {
   "cell_type": "markdown",
   "id": "fd94c90b",
   "metadata": {
    "papermill": {
     "duration": 0.011876,
     "end_time": "2022-09-22T18:43:55.214452",
     "exception": false,
     "start_time": "2022-09-22T18:43:55.202576",
     "status": "completed"
    },
    "tags": []
   },
   "source": [
    "**Different representation of generations of yeast for SKUs**"
   ]
  },
  {
   "cell_type": "code",
   "execution_count": 12,
   "id": "c01c371f",
   "metadata": {
    "execution": {
     "iopub.execute_input": "2022-09-22T18:43:55.242510Z",
     "iopub.status.busy": "2022-09-22T18:43:55.241330Z",
     "iopub.status.idle": "2022-09-22T18:43:57.013046Z",
     "shell.execute_reply": "2022-09-22T18:43:57.011716Z"
    },
    "papermill": {
     "duration": 1.789266,
     "end_time": "2022-09-22T18:43:57.016118",
     "exception": false,
     "start_time": "2022-09-22T18:43:55.226852",
     "status": "completed"
    },
    "tags": []
   },
   "outputs": [
    {
     "data": {
      "text/plain": [
       "<seaborn.axisgrid.FacetGrid at 0x7f6eaaade850>"
      ]
     },
     "execution_count": 12,
     "metadata": {},
     "output_type": "execute_result"
    },
    {
     "data": {
      "image/png": "[encoded data removed]",
      "text/plain": [
       "<Figure size 360x360 with 1 Axes>"
      ]
     },
     "metadata": {
      "needs_background": "light"
     },
     "output_type": "display_data"
    }
   ],
   "source": [
    "# Generations per SKU types\n",
    "p_gensku = sns.catplot(data=df, x=\"Bière\",y=\"Gen\", kind=\"swarm\", hue=\"Bière\", s=3, )\n",
    "p_gensku.set(title = \"Yeast generation for each SKU for all sites\")"
   ]
  },
  {
   "cell_type": "markdown",
   "id": "c9772ef6",
   "metadata": {
    "papermill": {
     "duration": 0.012175,
     "end_time": "2022-09-22T18:43:57.040883",
     "exception": false,
     "start_time": "2022-09-22T18:43:57.028708",
     "status": "completed"
    },
    "tags": []
   },
   "source": [
    "**Now for yeast generations distributions per yeast types. LCO yeast seems more widely distribued than accros generations than Boh**"
   ]
  },
  {
   "cell_type": "code",
   "execution_count": 13,
   "id": "7082b2ef",
   "metadata": {
    "execution": {
     "iopub.execute_input": "2022-09-22T18:43:57.069386Z",
     "iopub.status.busy": "2022-09-22T18:43:57.068583Z",
     "iopub.status.idle": "2022-09-22T18:43:57.636692Z",
     "shell.execute_reply": "2022-09-22T18:43:57.635640Z"
    },
    "papermill": {
     "duration": 0.585971,
     "end_time": "2022-09-22T18:43:57.639453",
     "exception": false,
     "start_time": "2022-09-22T18:43:57.053482",
     "status": "completed"
    },
    "tags": []
   },
   "outputs": [
    {
     "data": {
      "text/plain": [
       "<AxesSubplot:xlabel='Levure', ylabel='Gen'>"
      ]
     },
     "execution_count": 13,
     "metadata": {},
     "output_type": "execute_result"
    },
    {
     "data": {
      "image/png": "[encoded data removed]",
      "text/plain": [
       "<Figure size 360x360 with 1 Axes>"
      ]
     },
     "metadata": {
      "needs_background": "light"
     },
     "output_type": "display_data"
    }
   ],
   "source": [
    "p_genyeast  = sns.catplot(data=df, x=\"Levure\",y=\"Gen\", kind=\"violin\", dodge=True, inner=None, color=\".9\")\n",
    "sns.swarmplot(data=df,x=\"Levure\",y=\"Gen\", size=5, hue=\"Gen\")"
   ]
  },
  {
   "cell_type": "markdown",
   "id": "c83db615",
   "metadata": {
    "papermill": {
     "duration": 0.013285,
     "end_time": "2022-09-22T18:43:57.666762",
     "exception": false,
     "start_time": "2022-09-22T18:43:57.653477",
     "status": "completed"
    },
    "tags": []
   },
   "source": [
    "---"
   ]
  },
  {
   "cell_type": "markdown",
   "id": "ec73773e",
   "metadata": {
    "papermill": {
     "duration": 0.013214,
     "end_time": "2022-09-22T18:43:57.694836",
     "exception": false,
     "start_time": "2022-09-22T18:43:57.681622",
     "status": "completed"
    },
    "tags": []
   },
   "source": [
    "## pH distributions and relationship to yeast type and generation"
   ]
  },
  {
   "cell_type": "markdown",
   "id": "df26576a",
   "metadata": {
    "papermill": {
     "duration": 0.013746,
     "end_time": "2022-09-22T18:43:57.722950",
     "exception": false,
     "start_time": "2022-09-22T18:43:57.709204",
     "status": "completed"
    },
    "tags": []
   },
   "source": [
    "**pH distributions across 3 timepoints**<br>\n",
    "- Post-boil pH seem to have a left skewed dist\n",
    "- Other pH timepoints have a large standard deviation"
   ]
  },
  {
   "cell_type": "code",
   "execution_count": 14,
   "id": "4fd7f3d8",
   "metadata": {
    "execution": {
     "iopub.execute_input": "2022-09-22T18:43:57.754644Z",
     "iopub.status.busy": "2022-09-22T18:43:57.753759Z",
     "iopub.status.idle": "2022-09-22T18:43:58.222223Z",
     "shell.execute_reply": "2022-09-22T18:43:58.220960Z"
    },
    "papermill": {
     "duration": 0.487902,
     "end_time": "2022-09-22T18:43:58.224908",
     "exception": false,
     "start_time": "2022-09-22T18:43:57.737006",
     "status": "completed"
    },
    "tags": []
   },
   "outputs": [
    {
     "data": {
      "image/png": "[encoded data removed]",
      "text/plain": [
       "<Figure size 432x288 with 3 Axes>"
      ]
     },
     "metadata": {
      "needs_background": "light"
     },
     "output_type": "display_data"
    }
   ],
   "source": [
    "ph_tp = [\"Post-Boil pH\", \"Post-pitch pH (FV)\",\"Final (pre-DH)\"]\n",
    "fig, axes = plt.subplots(1,3, sharex=False,sharey=True)\n",
    "ncols = len(ph_tp)\n",
    "palette = itertools.cycle(sns.color_palette())\n",
    "\n",
    "for i,t in enumerate(ph_tp):\n",
    "    sns.histplot(data=df, x=t, ax=axes[i % ncols],color=next(palette),kde=True, bins=10)"
   ]
  },
  {
   "cell_type": "code",
   "execution_count": 15,
   "id": "f20db39a",
   "metadata": {
    "execution": {
     "iopub.execute_input": "2022-09-22T18:43:58.254837Z",
     "iopub.status.busy": "2022-09-22T18:43:58.254060Z",
     "iopub.status.idle": "2022-09-22T18:43:58.446255Z",
     "shell.execute_reply": "2022-09-22T18:43:58.445195Z"
    },
    "papermill": {
     "duration": 0.211081,
     "end_time": "2022-09-22T18:43:58.449690",
     "exception": false,
     "start_time": "2022-09-22T18:43:58.238609",
     "status": "completed"
    },
    "tags": []
   },
   "outputs": [
    {
     "data": {
      "text/plain": [
       "<AxesSubplot:>"
      ]
     },
     "execution_count": 15,
     "metadata": {},
     "output_type": "execute_result"
    },
    {
     "data": {
      "image/png": "[encoded data removed]",
      "text/plain": [
       "<Figure size 432x288 with 1 Axes>"
      ]
     },
     "metadata": {
      "needs_background": "light"
     },
     "output_type": "display_data"
    }
   ],
   "source": [
    "sns.boxplot(data=df[ph_tp])"
   ]
  },
  {
   "cell_type": "markdown",
   "id": "23ecde15",
   "metadata": {
    "papermill": {
     "duration": 0.013691,
     "end_time": "2022-09-22T18:43:58.478624",
     "exception": false,
     "start_time": "2022-09-22T18:43:58.464933",
     "status": "completed"
    },
    "tags": []
   },
   "source": [
    "**For this project, I won't bother with data transformation and will thus test normality for un-transformed data and then perform statistical test accordingly**"
   ]
  },
  {
   "cell_type": "code",
   "execution_count": 16,
   "id": "5bf555a5",
   "metadata": {
    "execution": {
     "iopub.execute_input": "2022-09-22T18:43:58.510295Z",
     "iopub.status.busy": "2022-09-22T18:43:58.509555Z",
     "iopub.status.idle": "2022-09-22T18:43:58.520183Z",
     "shell.execute_reply": "2022-09-22T18:43:58.518810Z"
    },
    "papermill": {
     "duration": 0.0298,
     "end_time": "2022-09-22T18:43:58.523568",
     "exception": false,
     "start_time": "2022-09-22T18:43:58.493768",
     "status": "completed"
    },
    "tags": []
   },
   "outputs": [
    {
     "name": "stdout",
     "output_type": "stream",
     "text": [
      "Statistics=0.854, p=0.001 for var Post-Boil pH\n",
      "Post-Boil pH distribution does not look Gaussian (reject null hyp)\n",
      "\n",
      "Statistics=0.952, p=0.165 for var Post-pitch pH (FV)\n",
      "Post-pitch pH (FV) distribution looks Gaussian (accept null hyp) \n",
      "\n",
      "Statistics=0.916, p=0.018 for var Final (pre-DH)\n",
      "Final (pre-DH) distribution does not look Gaussian (reject null hyp)\n",
      "\n"
     ]
    }
   ],
   "source": [
    "# Test of normality for all pH distributions with T-I error threshold of 5%\n",
    "\n",
    "def normTest(x):\n",
    "    alpha = 0.05\n",
    "    for i in x :\n",
    "        i_naless = (df[i]).dropna()\n",
    "        stat, p = shapiro(i_naless)\n",
    "        print('Statistics=%.3f, p=%.3f' % (stat, p),\"for var\",i)\n",
    "        if p > alpha : #null hypo = distrib is gaussian\n",
    "            print(i,'distribution looks Gaussian (accept null hyp) \\n')\n",
    "        else:\n",
    "            print(i,'distribution does not look Gaussian (reject null hyp)\\n')\n",
    "normTest(ph_tp)"
   ]
  },
  {
   "cell_type": "markdown",
   "id": "68579016",
   "metadata": {
    "papermill": {
     "duration": 0.013618,
     "end_time": "2022-09-22T18:43:58.551457",
     "exception": false,
     "start_time": "2022-09-22T18:43:58.537839",
     "status": "completed"
    },
    "tags": []
   },
   "source": [
    "**Since the test we want to run are based on differences from post-boil pH (and it cannot be considered to be normally distributed), we will use non-parametric methods**"
   ]
  },
  {
   "cell_type": "code",
   "execution_count": 17,
   "id": "582e9fcc",
   "metadata": {
    "execution": {
     "iopub.execute_input": "2022-09-22T18:43:58.582867Z",
     "iopub.status.busy": "2022-09-22T18:43:58.582170Z",
     "iopub.status.idle": "2022-09-22T18:43:58.592964Z",
     "shell.execute_reply": "2022-09-22T18:43:58.591641Z"
    },
    "papermill": {
     "duration": 0.030439,
     "end_time": "2022-09-22T18:43:58.595999",
     "exception": false,
     "start_time": "2022-09-22T18:43:58.565560",
     "status": "completed"
    },
    "tags": []
   },
   "outputs": [
    {
     "name": "stdout",
     "output_type": "stream",
     "text": [
      "Statistics=6.5 p=2.205849792732141e-06 for post-boil vs. post-pitch pH (all samples)\n"
     ]
    }
   ],
   "source": [
    "# Wilcoxon Signed-Rank Test for post-boil vs. post-pitch pH (all samples)\n",
    "pb_pp_naless = df.dropna(subset=[\"Post-Boil pH\", \"Post-pitch pH (FV)\"])\n",
    "stat, p = wilcoxon(pb_pp_naless[\"Post-Boil pH\"], pb_pp_naless[\"Post-pitch pH (FV)\"])\n",
    "print('Statistics={} p={} for post-boil vs. post-pitch pH (all samples)'.format(stat,p))"
   ]
  },
  {
   "cell_type": "code",
   "execution_count": 18,
   "id": "efc6f60f",
   "metadata": {
    "execution": {
     "iopub.execute_input": "2022-09-22T18:43:58.628341Z",
     "iopub.status.busy": "2022-09-22T18:43:58.627827Z",
     "iopub.status.idle": "2022-09-22T18:43:58.639944Z",
     "shell.execute_reply": "2022-09-22T18:43:58.638586Z"
    },
    "papermill": {
     "duration": 0.033362,
     "end_time": "2022-09-22T18:43:58.643465",
     "exception": false,
     "start_time": "2022-09-22T18:43:58.610103",
     "status": "completed"
    },
    "tags": []
   },
   "outputs": [
    {
     "name": "stdout",
     "output_type": "stream",
     "text": [
      "Statistics=0.0 p=1.7333066441991056e-06 for post-boil vs. final pH (all samples)\n"
     ]
    }
   ],
   "source": [
    "# Wilcoxon Signed-Rank Test for post-boil vs. final pH (all samples)\n",
    "pb_pf_naless = df.dropna(subset=[\"Post-Boil pH\", \"Final (pre-DH)\"])\n",
    "stat, p = wilcoxon(pb_pf_naless[\"Post-Boil pH\"], pb_pf_naless[\"Final (pre-DH)\"])\n",
    "print('Statistics={} p={} for post-boil vs. final pH (all samples)'.format(stat,p))"
   ]
  },
  {
   "cell_type": "markdown",
   "id": "f25ce678",
   "metadata": {
    "papermill": {
     "duration": 0.014621,
     "end_time": "2022-09-22T18:43:58.672169",
     "exception": false,
     "start_time": "2022-09-22T18:43:58.657548",
     "status": "completed"
    },
    "tags": []
   },
   "source": [
    "**Significant differences for pH between different timepoints : **\n",
    "- pb vs pp\n",
    "- pb vs final"
   ]
  },
  {
   "cell_type": "code",
   "execution_count": 19,
   "id": "3618140a",
   "metadata": {
    "execution": {
     "iopub.execute_input": "2022-09-22T18:43:58.704391Z",
     "iopub.status.busy": "2022-09-22T18:43:58.703883Z",
     "iopub.status.idle": "2022-09-22T18:43:58.733862Z",
     "shell.execute_reply": "2022-09-22T18:43:58.732435Z"
    },
    "papermill": {
     "duration": 0.049135,
     "end_time": "2022-09-22T18:43:58.736436",
     "exception": false,
     "start_time": "2022-09-22T18:43:58.687301",
     "status": "completed"
    },
    "tags": []
   },
   "outputs": [
    {
     "data": {
      "text/html": [
       "<div>\n",
       "<style scoped>\n",
       "    .dataframe tbody tr th:only-of-type {\n",
       "        vertical-align: middle;\n",
       "    }\n",
       "\n",
       "    .dataframe tbody tr th {\n",
       "        vertical-align: top;\n",
       "    }\n",
       "\n",
       "    .dataframe thead th {\n",
       "        text-align: right;\n",
       "    }\n",
       "</style>\n",
       "<table border=\"1\" class=\"dataframe\">\n",
       "  <thead>\n",
       "    <tr style=\"text-align: right;\">\n",
       "      <th></th>\n",
       "      <th>Lieu</th>\n",
       "      <th>Date brassin</th>\n",
       "      <th>FV</th>\n",
       "      <th>Bière</th>\n",
       "      <th># brassin</th>\n",
       "      <th>Levure</th>\n",
       "      <th>Gen</th>\n",
       "      <th>label_gen</th>\n",
       "      <th>Tag</th>\n",
       "      <th>Post-Boil pH</th>\n",
       "      <th>Post-pitch pH (FV)</th>\n",
       "      <th>Final (pre-DH)</th>\n",
       "      <th>diff pitch pH</th>\n",
       "      <th>label_diff_pitch</th>\n",
       "      <th>diff Total pH</th>\n",
       "      <th>label_diff_tot</th>\n",
       "      <th># lot levure</th>\n",
       "      <th>Specialty Torref. malts</th>\n",
       "      <th>OG (P)</th>\n",
       "    </tr>\n",
       "  </thead>\n",
       "  <tbody>\n",
       "    <tr>\n",
       "      <th>0</th>\n",
       "      <td>Dépôt</td>\n",
       "      <td>2022-09-14</td>\n",
       "      <td>8</td>\n",
       "      <td>TMB</td>\n",
       "      <td>1750</td>\n",
       "      <td>Boh</td>\n",
       "      <td>0</td>\n",
       "      <td>G0</td>\n",
       "      <td>Dépôt-TMB-1750-Boh-0</td>\n",
       "      <td>5.26</td>\n",
       "      <td>5.12</td>\n",
       "      <td>4.23</td>\n",
       "      <td>-0.14</td>\n",
       "      <td>small_shift_pitch</td>\n",
       "      <td>-1.03</td>\n",
       "      <td>big_shift_tot</td>\n",
       "      <td>NaN</td>\n",
       "      <td>False</td>\n",
       "      <td>11.9</td>\n",
       "    </tr>\n",
       "    <tr>\n",
       "      <th>1</th>\n",
       "      <td>Dépôt</td>\n",
       "      <td>2022-08-24</td>\n",
       "      <td>9</td>\n",
       "      <td>Gil</td>\n",
       "      <td>1740</td>\n",
       "      <td>Boh</td>\n",
       "      <td>0</td>\n",
       "      <td>G0</td>\n",
       "      <td>Dépôt-Gil-1740-Boh-0</td>\n",
       "      <td>5.09</td>\n",
       "      <td>4.99</td>\n",
       "      <td>4.41</td>\n",
       "      <td>-0.10</td>\n",
       "      <td>small_shift_pitch</td>\n",
       "      <td>-0.68</td>\n",
       "      <td>small_shift_tot</td>\n",
       "      <td>22529</td>\n",
       "      <td>True</td>\n",
       "      <td>17.4</td>\n",
       "    </tr>\n",
       "    <tr>\n",
       "      <th>2</th>\n",
       "      <td>Dépôt</td>\n",
       "      <td>2022-08-24</td>\n",
       "      <td>8</td>\n",
       "      <td>VA</td>\n",
       "      <td>1739</td>\n",
       "      <td>Boh</td>\n",
       "      <td>0</td>\n",
       "      <td>G0</td>\n",
       "      <td>Dépôt-VA-1739-Boh-0</td>\n",
       "      <td>5.42</td>\n",
       "      <td>5.25</td>\n",
       "      <td>4.36</td>\n",
       "      <td>-0.17</td>\n",
       "      <td>small_shift_pitch</td>\n",
       "      <td>-1.06</td>\n",
       "      <td>big_shift_tot</td>\n",
       "      <td>22529</td>\n",
       "      <td>True</td>\n",
       "      <td>11.2</td>\n",
       "    </tr>\n",
       "    <tr>\n",
       "      <th>3</th>\n",
       "      <td>Dépôt</td>\n",
       "      <td>2022-07-27</td>\n",
       "      <td>8</td>\n",
       "      <td>TMB</td>\n",
       "      <td>1721</td>\n",
       "      <td>Boh</td>\n",
       "      <td>0</td>\n",
       "      <td>G0</td>\n",
       "      <td>Dépôt-TMB-1721-Boh-0</td>\n",
       "      <td>5.48</td>\n",
       "      <td>5.41</td>\n",
       "      <td>4.64</td>\n",
       "      <td>-0.07</td>\n",
       "      <td>small_shift_pitch</td>\n",
       "      <td>-0.84</td>\n",
       "      <td>small_shift_tot</td>\n",
       "      <td>22219</td>\n",
       "      <td>False</td>\n",
       "      <td>11.9</td>\n",
       "    </tr>\n",
       "    <tr>\n",
       "      <th>4</th>\n",
       "      <td>Dépôt</td>\n",
       "      <td>2022-06-09</td>\n",
       "      <td>9</td>\n",
       "      <td>She</td>\n",
       "      <td>1694</td>\n",
       "      <td>Boh</td>\n",
       "      <td>0</td>\n",
       "      <td>G0</td>\n",
       "      <td>Dépôt-She-1694-Boh-0</td>\n",
       "      <td>5.33</td>\n",
       "      <td>5.17</td>\n",
       "      <td>3.97</td>\n",
       "      <td>-0.16</td>\n",
       "      <td>small_shift_pitch</td>\n",
       "      <td>-1.36</td>\n",
       "      <td>big_shift_tot</td>\n",
       "      <td>22219</td>\n",
       "      <td>False</td>\n",
       "      <td>11.9</td>\n",
       "    </tr>\n",
       "  </tbody>\n",
       "</table>\n",
       "</div>"
      ],
      "text/plain": [
       "    Lieu Date brassin  FV Bière  # brassin Levure  Gen label_gen  \\\n",
       "0  Dépôt   2022-09-14   8   TMB       1750    Boh    0        G0   \n",
       "1  Dépôt   2022-08-24   9   Gil       1740    Boh    0        G0   \n",
       "2  Dépôt   2022-08-24   8    VA       1739    Boh    0        G0   \n",
       "3  Dépôt   2022-07-27   8   TMB       1721    Boh    0        G0   \n",
       "4  Dépôt   2022-06-09   9   She       1694    Boh    0        G0   \n",
       "\n",
       "                    Tag  Post-Boil pH  Post-pitch pH (FV)  Final (pre-DH)  \\\n",
       "0  Dépôt-TMB-1750-Boh-0          5.26                5.12            4.23   \n",
       "1  Dépôt-Gil-1740-Boh-0          5.09                4.99            4.41   \n",
       "2   Dépôt-VA-1739-Boh-0          5.42                5.25            4.36   \n",
       "3  Dépôt-TMB-1721-Boh-0          5.48                5.41            4.64   \n",
       "4  Dépôt-She-1694-Boh-0          5.33                5.17            3.97   \n",
       "\n",
       "   diff pitch pH   label_diff_pitch  diff Total pH   label_diff_tot  \\\n",
       "0          -0.14  small_shift_pitch          -1.03    big_shift_tot   \n",
       "1          -0.10  small_shift_pitch          -0.68  small_shift_tot   \n",
       "2          -0.17  small_shift_pitch          -1.06    big_shift_tot   \n",
       "3          -0.07  small_shift_pitch          -0.84  small_shift_tot   \n",
       "4          -0.16  small_shift_pitch          -1.36    big_shift_tot   \n",
       "\n",
       "  # lot levure  Specialty Torref. malts  OG (P)  \n",
       "0          NaN                    False    11.9  \n",
       "1        22529                     True    17.4  \n",
       "2        22529                     True    11.2  \n",
       "3        22219                    False    11.9  \n",
       "4        22219                    False    11.9  "
      ]
     },
     "execution_count": 19,
     "metadata": {},
     "output_type": "execute_result"
    }
   ],
   "source": [
    "pb_pp_naless.head()"
   ]
  },
  {
   "cell_type": "markdown",
   "id": "65d07e37",
   "metadata": {
    "papermill": {
     "duration": 0.014593,
     "end_time": "2022-09-22T18:43:58.766289",
     "exception": false,
     "start_time": "2022-09-22T18:43:58.751696",
     "status": "completed"
    },
    "tags": []
   },
   "source": [
    "---"
   ]
  },
  {
   "cell_type": "markdown",
   "id": "10796480",
   "metadata": {
    "papermill": {
     "duration": 0.014425,
     "end_time": "2022-09-22T18:43:58.795482",
     "exception": false,
     "start_time": "2022-09-22T18:43:58.781057",
     "status": "completed"
    },
    "tags": []
   },
   "source": [
    "## Test if yeast generation or strain used could have an impact on pH differences:\n",
    "1. **post-boil vs. post-pitch**\n",
    "2. **post-boil vs. final pH**"
   ]
  },
  {
   "cell_type": "markdown",
   "id": "d12b29b1",
   "metadata": {
    "papermill": {
     "duration": 0.014165,
     "end_time": "2022-09-22T18:43:58.824374",
     "exception": false,
     "start_time": "2022-09-22T18:43:58.810209",
     "status": "completed"
    },
    "tags": []
   },
   "source": [
    "### 1. With : (post-boil pH) - (post-pitch pH)\n",
    "<code style=\"background:yellow;color:blue\">No significant difference for diff. (post-boil - post-pitch) when comparing G0s vs. G1-to-G4s for yeast generations used</code>\n",
    "\n",
    "**However...**\n",
    "\n",
    "<code style=\"background:yellow;color:red\">There is a significant difference between (post-boil - post-pitch) when comparing Boh and LCO yeasts with p=0.0004089</code>"
   ]
  },
  {
   "cell_type": "code",
   "execution_count": 20,
   "id": "3f35d6b2",
   "metadata": {
    "execution": {
     "iopub.execute_input": "2022-09-22T18:43:58.857982Z",
     "iopub.status.busy": "2022-09-22T18:43:58.857489Z",
     "iopub.status.idle": "2022-09-22T18:43:59.196674Z",
     "shell.execute_reply": "2022-09-22T18:43:59.195395Z"
    },
    "papermill": {
     "duration": 0.359792,
     "end_time": "2022-09-22T18:43:59.199919",
     "exception": false,
     "start_time": "2022-09-22T18:43:58.840127",
     "status": "completed"
    },
    "tags": []
   },
   "outputs": [
    {
     "name": "stdout",
     "output_type": "stream",
     "text": [
      "pvalue for (post-boil - post-pitch pH) with G0 vs. G1-to-G4 is p=0.776232958872574\n",
      "\n",
      "pvalue for (post-boil - post-pitch pH) with Boh vs. LCO yeast is p=0.0004089449871751835\n",
      "\n"
     ]
    },
    {
     "data": {
      "text/plain": [
       "<AxesSubplot:xlabel='Levure', ylabel='diff pitch pH'>"
      ]
     },
     "execution_count": 20,
     "metadata": {},
     "output_type": "execute_result"
    },
    {
     "data": {
      "image/png": "[encoded data removed]",
      "text/plain": [
       "<Figure size 432x288 with 2 Axes>"
      ]
     },
     "metadata": {
      "needs_background": "light"
     },
     "output_type": "display_data"
    }
   ],
   "source": [
    "# Mann-Whitney U Test for diff (post-boil - post-pitch) comparing G0 vs. G1-to-G4\n",
    "dpitch_g0 = pb_pp_naless.query('label_gen == \"G0\"')\n",
    "dpitch_g1g4 = pb_pp_naless.query('label_gen == \"G1-to-G4\"')\n",
    "stat, p = mannwhitneyu(dpitch_g0['diff pitch pH'], dpitch_g1g4['diff pitch pH'])\n",
    "print('pvalue for (post-boil - post-pitch pH) with G0 vs. G1-to-G4 is p={}\\n'.format(p))\n",
    "# Mann-Whitney U Test for diff (post-boil - post-pitch) comparing yeast types (Boh vs. LCO)\n",
    "dpitch_boh = pb_pp_naless.query('Levure == \"Boh\"')\n",
    "dpitch_lco = pb_pp_naless.query('Levure == \"LCO\"')\n",
    "stat, p = mannwhitneyu(dpitch_boh['diff pitch pH'], dpitch_lco['diff pitch pH'])\n",
    "print('pvalue for (post-boil - post-pitch pH) with Boh vs. LCO yeast is p={}\\n'.format(p))\n",
    "\n",
    "# Boxplots G0 vs G1-to-G4 + Boh vs LCO\n",
    "fig, axes = plt.subplots(1,2, sharey=True)\n",
    "fig.suptitle('Differences of (post-boil - post-pitch pH) for yeast generations and yeast strain')\n",
    "sns.boxplot(data=pb_pp_naless,x=\"label_gen\",y='diff pitch pH', ax=axes[0])\n",
    "sns.boxplot(data=pb_pp_naless,x=\"Levure\",y='diff pitch pH',ax=axes[1], palette={\"Boh\" : \"grey\",\"LCO\" : \"red\"})"
   ]
  },
  {
   "cell_type": "markdown",
   "id": "a1f9d913",
   "metadata": {
    "papermill": {
     "duration": 0.015346,
     "end_time": "2022-09-22T18:43:59.231189",
     "exception": false,
     "start_time": "2022-09-22T18:43:59.215843",
     "status": "completed"
    },
    "tags": []
   },
   "source": [
    "### 2. With : (post-boil pH) - (final pH)\n",
    "<code style=\"background:yellow;color:blue\">No significant difference for diff. (post-boil - final pH) for either pairs of groups</code>"
   ]
  },
  {
   "cell_type": "code",
   "execution_count": 21,
   "id": "31051898",
   "metadata": {
    "execution": {
     "iopub.execute_input": "2022-09-22T18:43:59.263572Z",
     "iopub.status.busy": "2022-09-22T18:43:59.263135Z",
     "iopub.status.idle": "2022-09-22T18:43:59.637398Z",
     "shell.execute_reply": "2022-09-22T18:43:59.636085Z"
    },
    "papermill": {
     "duration": 0.394208,
     "end_time": "2022-09-22T18:43:59.640725",
     "exception": false,
     "start_time": "2022-09-22T18:43:59.246517",
     "status": "completed"
    },
    "tags": []
   },
   "outputs": [
    {
     "name": "stdout",
     "output_type": "stream",
     "text": [
      "pvalue for (post-boil - final pH) with G0 vs. G1-to-G4 is p=0.032510793554782626\n",
      "\n",
      "pvalue for (post-boil - final pH) with Boh vs. LCO yeast is p=0.023507306342240308\n",
      "\n"
     ]
    },
    {
     "data": {
      "text/plain": [
       "<AxesSubplot:xlabel='Levure', ylabel='diff Total pH'>"
      ]
     },
     "execution_count": 21,
     "metadata": {},
     "output_type": "execute_result"
    },
    {
     "data": {
      "image/png": "[encoded data removed]",
      "text/plain": [
       "<Figure size 432x288 with 2 Axes>"
      ]
     },
     "metadata": {
      "needs_background": "light"
     },
     "output_type": "display_data"
    }
   ],
   "source": [
    "# Mann-Whitney U Test for diff (post-boil - final) comparing G0 vs. G1-to-G4\n",
    "dfpitch_g0 = pb_pf_naless.query('label_gen == \"G0\"')\n",
    "dfpitch_g1g4 = pb_pf_naless.query('label_gen == \"G1-to-G4\"')\n",
    "stat, p = mannwhitneyu(dfpitch_g0['diff Total pH'], dfpitch_g1g4['diff Total pH'])\n",
    "print('pvalue for (post-boil - final pH) with G0 vs. G1-to-G4 is p={}\\n'.format(p))\n",
    "# Mann-Whitney U Test for diff (post-boil - final) comparing yeast types (Boh vs. LCO)\n",
    "dfpitch_boh = pb_pf_naless.query('Levure == \"Boh\"')\n",
    "dfpitch_lco = pb_pf_naless.query('Levure == \"LCO\"')\n",
    "stat, p = mannwhitneyu(dfpitch_boh['diff Total pH'], dfpitch_lco['diff Total pH'])\n",
    "print('pvalue for (post-boil - final pH) with Boh vs. LCO yeast is p={}\\n'.format(p))\n",
    "\n",
    "# Boxplots G0 vs G1-to-G4 + Boh vs LCO\n",
    "fig, axes = plt.subplots(1,2, sharey=True)\n",
    "fig.suptitle('Differences of (post-boil - final pH) for yeast generations and yeast strain')\n",
    "sns.boxplot(data=pb_pf_naless,x=\"label_gen\",y='diff Total pH', ax=axes[0])\n",
    "sns.boxplot(data=pb_pf_naless,x=\"Levure\",y='diff Total pH',ax=axes[1], palette={\"Boh\" : \"grey\",\"LCO\" : \"red\"})"
   ]
  }
 ],
 "metadata": {
  "kernelspec": {
   "display_name": "Python 3",
   "language": "python",
   "name": "python3"
  },
  "language_info": {
   "codemirror_mode": {
    "name": "ipython",
    "version": 3
   },
   "file_extension": ".py",
   "mimetype": "text/x-python",
   "name": "python",
   "nbconvert_exporter": "python",
   "pygments_lexer": "ipython3",
   "version": "3.7.12"
  },
  "papermill": {
   "default_parameters": {},
   "duration": 20.100843,
   "end_time": "2022-09-22T18:44:00.782707",
   "environment_variables": {},
   "exception": null,
   "input_path": "__notebook__.ipynb",
   "output_path": "__notebook__.ipynb",
   "parameters": {},
   "start_time": "2022-09-22T18:43:40.681864",
   "version": "2.3.4"
  }
 },
 "nbformat": 4,
 "nbformat_minor": 5
}
